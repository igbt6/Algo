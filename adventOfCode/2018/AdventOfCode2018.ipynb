{
 "cells": [
  {
   "cell_type": "markdown",
   "metadata": {},
   "source": [
    "[Advent of code 2018](https://adventofcode.com) - Solutions written in python provided by Lukasz Uszko (aka \"igbt6\")"
   ]
  },
  {
   "cell_type": "markdown",
   "metadata": {},
   "source": [
    "### Utility Functions"
   ]
  },
  {
   "cell_type": "code",
   "execution_count": 77,
   "metadata": {},
   "outputs": [],
   "source": [
    "## Imports\n",
    "import math\n",
    "from collections import defaultdict\n",
    "from collections import Counter\n",
    "from collections import OrderedDict\n",
    "from collections import deque\n",
    "import operator\n",
    "import re\n",
    "import functools\n",
    "import copy\n",
    "\n",
    "## Variables\n",
    "INF = float('inf')\n",
    "NAN = float('nan')\n",
    "BIG_NUM_POS = 10 ** 999\n",
    "BIG_NUM_NEG = -10 ** 999\n",
    "\n",
    "###############################################################################################\n",
    "## Input helpers, data parsers etc\n",
    "###############################################################################################\n",
    "###############################################################################################\n",
    "def input_from_file(day):\n",
    "    \"Open this day's input file.\"\n",
    "    return open('inputs/input{}.txt'.format(day))\n",
    "\n",
    "###############################################################################################\n",
    "def test_from_file(day):\n",
    "    \"Open this day's test input file.\"\n",
    "    return open('inputs/test{}.txt'.format(day))\n",
    "\n",
    "###############################################################################################\n",
    "def convert_to_matrix(input_data):\n",
    "    \"Converts input data to 2D matrix\"\n",
    "    if (isinstance(input_data, str)):\n",
    "        input_data = input_data.splitlines()\n",
    "    return [map_to_tuple(convert_input_value, line.split()) for line in input_data]\n",
    "\n",
    "###############################################################################################\n",
    "def convert_to_list(input_data):\n",
    "    \"Converts input data to list\"\n",
    "    if (isinstance(input_data, str)):\n",
    "        input_data = input_data.split().replace('\\n', '')\n",
    "    return list(map(convert_input_value, input_data))\n",
    "\n",
    "###############################################################################################\n",
    "def convert_input_value(val):\n",
    "    try:\n",
    "        return int(val)\n",
    "    except ValueError:\n",
    "        try:\n",
    "            fl = float(val)\n",
    "            if math.isnan(fl) or math.isinf(fl):\n",
    "                raise ValueError()\n",
    "            return float(val)\n",
    "        except ValueError:\n",
    "            return val\n",
    "\n",
    "###############################################################################################\n",
    "## Iterable data helpers\n",
    "###############################################################################################\n",
    "def map_to_tuple(fn, *args):\n",
    "    \"Do a map and put the results into list\"\n",
    "    return tuple(map(fn, *args))\n",
    "\n",
    "###############################################################################################"
   ]
  },
  {
   "cell_type": "markdown",
   "metadata": {},
   "source": [
    "## [DAY 1](http://adventofcode.com/2018/day/1)"
   ]
  },
  {
   "cell_type": "code",
   "execution_count": 4,
   "metadata": {},
   "outputs": [],
   "source": [
    "# input data\n",
    "input_data = convert_to_list(input_from_file(1))"
   ]
  },
  {
   "cell_type": "code",
   "execution_count": 5,
   "metadata": {},
   "outputs": [
    {
     "data": {
      "text/plain": [
       "585"
      ]
     },
     "execution_count": 5,
     "metadata": {},
     "output_type": "execute_result"
    }
   ],
   "source": [
    "## solution 1\n",
    "sum(input_data)\n"
   ]
  },
  {
   "cell_type": "code",
   "execution_count": 6,
   "metadata": {},
   "outputs": [
    {
     "data": {
      "text/plain": [
       "83173"
      ]
     },
     "execution_count": 6,
     "metadata": {},
     "output_type": "execute_result"
    }
   ],
   "source": [
    "## solution 2\n",
    "reached_sums = set()\n",
    "curr_sum = 0\n",
    "idx = 0\n",
    "while True:\n",
    "    curr_sum += input_data[idx % len(input_data)]\n",
    "    if curr_sum in reached_sums:\n",
    "        break\n",
    "    reached_sums.add(curr_sum)\n",
    "    idx += 1\n",
    "curr_sum"
   ]
  },
  {
   "cell_type": "markdown",
   "metadata": {},
   "source": [
    "## [DAY 2](http://adventofcode.com/2018/day/2)"
   ]
  },
  {
   "cell_type": "code",
   "execution_count": 84,
   "metadata": {},
   "outputs": [],
   "source": [
    "# input data\n",
    "input_data = convert_to_list(input_from_file(2))\n",
    "input_data = list(map(lambda x:x.rstrip(), input_data))"
   ]
  },
  {
   "cell_type": "code",
   "execution_count": 100,
   "metadata": {},
   "outputs": [
    {
     "data": {
      "text/plain": [
       "6972"
      ]
     },
     "execution_count": 100,
     "metadata": {},
     "output_type": "execute_result"
    }
   ],
   "source": [
    "## solution 1\n",
    "from collections import Counter as Cnt\n",
    "#print(input_data)\n",
    "\n",
    "twice = 0\n",
    "three = 0\n",
    "\n",
    "for _id in input_data:\n",
    "    d = Cnt()\n",
    "    for l in _id:\n",
    "        d[l] += 1\n",
    "    prev_twice = twice\n",
    "    prev_three = three\n",
    "    for v in d.items():\n",
    "        if prev_twice == twice and v[1] == 2:\n",
    "            twice += 1\n",
    "        elif prev_three == three and v[1] == 3:\n",
    "            three += 1\n",
    "twice * three"
   ]
  },
  {
   "cell_type": "code",
   "execution_count": 125,
   "metadata": {},
   "outputs": [
    {
     "data": {
      "text/plain": [
       "'aixwcbzrmdvpsjfgllthdyoqe'"
      ]
     },
     "execution_count": 125,
     "metadata": {},
     "output_type": "execute_result"
    }
   ],
   "source": [
    "## solution 2\n",
    "def solve(input_data):\n",
    "    for i,vi in enumerate(input_data):\n",
    "        for j,vj in enumerate(input_data):\n",
    "            if j == i:\n",
    "                continue\n",
    "            diff = list(filter(lambda x: x[0]!=x[1], zip(vi,vj)))\n",
    "            if len(diff) == 1:\n",
    "                #print(diff[0][0], diff[0][1])\n",
    "                return ''.join([x[0] for x in filter(lambda x: x[0]==x[1], zip(vi,vj))])\n",
    "                \n",
    "solve(input_data)\n",
    "    "
   ]
  },
  {
   "cell_type": "markdown",
   "metadata": {},
   "source": [
    "## [Day 3](http://adventofcode.com/2018/day/3)"
   ]
  },
  {
   "cell_type": "code",
   "execution_count": 65,
   "metadata": {},
   "outputs": [],
   "source": [
    "# input data\n",
    "input_data = convert_to_list(input_from_file(3))\n"
   ]
  },
  {
   "cell_type": "code",
   "execution_count": 65,
   "metadata": {
    "scrolled": true
   },
   "outputs": [
    {
     "data": {
      "text/plain": [
       "113716"
      ]
     },
     "execution_count": 65,
     "metadata": {},
     "output_type": "execute_result"
    }
   ],
   "source": [
    "## solution 1\n",
    "import re\n",
    "from collections import Counter as Cnt\n",
    "claims = map(lambda line : map(int, re.findall(r'-?\\d+', line)), input_data)\n",
    "\n",
    "d = Cnt()\n",
    "\n",
    "for (num, start_x, start_y, width, height) in claims:\n",
    "    for x in range(start_x, start_x+width):\n",
    "        for y in range(start_y, start_y+height):\n",
    "            d[(x,y)] += 1\n",
    "sum([1 for k,v in d.items() if v > 1])"
   ]
  },
  {
   "cell_type": "code",
   "execution_count": 75,
   "metadata": {},
   "outputs": [
    {
     "data": {
      "text/plain": [
       "742"
      ]
     },
     "execution_count": 75,
     "metadata": {},
     "output_type": "execute_result"
    }
   ],
   "source": [
    "## solution 2\n",
    "import re\n",
    "from collections import Counter as Cnt\n",
    "claims = map(lambda line : map(int, re.findall(r'-?\\d+', line)), input_data)\n",
    "\n",
    "d = Cnt()\n",
    "\n",
    "sizes = Cnt()\n",
    "d_claimed = Cnt()\n",
    "\n",
    "for (num, start_x, start_y, width, height) in claims:\n",
    "    sizes[num] = width*height\n",
    "    \n",
    "    for x in range(start_x, start_x+width):\n",
    "        for y in range(start_y, start_y+height):\n",
    "            if d[(x,y)]:\n",
    "                d[(x,y)].append(num)\n",
    "            else:\n",
    "                d[(x,y)] = [num]\n",
    "\n",
    "for k,v in d.items():\n",
    "    if len(v) == 1:\n",
    "        d_claimed[v[0]] += 1\n",
    "_id = 0\n",
    "for k,v in d_claimed.items():\n",
    "    if sizes[k] == v:\n",
    "        _id = k\n",
    "        break\n",
    "_id    "
   ]
  },
  {
   "cell_type": "markdown",
   "metadata": {},
   "source": [
    "## [Day 4](https://adventofcode.com/2018/day/4)"
   ]
  },
  {
   "cell_type": "code",
   "execution_count": 208,
   "metadata": {},
   "outputs": [],
   "source": [
    "input_data = convert_to_list(input_from_file(4))\n",
    "input_data = sorted(map(lambda l :l.split(), input_data))\n",
    "#print(input_data)"
   ]
  },
  {
   "cell_type": "code",
   "execution_count": 209,
   "metadata": {},
   "outputs": [
    {
     "data": {
      "text/plain": [
       "101194"
      ]
     },
     "execution_count": 209,
     "metadata": {},
     "output_type": "execute_result"
    }
   ],
   "source": [
    "## solution 1\n",
    "from collections import Counter as Cnt\n",
    "from datetime import datetime\n",
    "\n",
    "current_id = -1\n",
    "d_falls_asleep = Cnt()\n",
    "d_sum = Cnt()\n",
    "d_minutes = Cnt()\n",
    "for l in input_data:\n",
    "    dt = datetime.strptime(l[1].replace(']',''), '%H:%M')\n",
    "    if 'Guard' in l:\n",
    "        current_id = int(l[3][1:])\n",
    "        if current_id in d:\n",
    "            d[current_id] = 0\n",
    "    elif 'falls' in l:\n",
    "        d_falls_asleep[current_id] = dt.minute\n",
    "    elif 'wakes' in l:\n",
    "        d_sum[current_id] += (dt.minute-d_falls_asleep[current_id])\n",
    "        if current_id not in d_minutes:\n",
    "            d_minutes[current_id] = [0]*60\n",
    "        for i in range(d_falls_asleep[current_id], dt.minute):\n",
    "            d_minutes[current_id][i] += 1\n",
    "#print(d_sum)\n",
    "#print(d_minutes)\n",
    "guard_id, max_minutes_asleep = max([(k,v) for k,v in d_sum.items()], key=lambda t:t[1]) #(guard_id, max_minutes asslep)\n",
    "\n",
    "max_idx = 0\n",
    "max_val = 0\n",
    "for i,v in enumerate(d_minutes[guard_id]):\n",
    "    if v > max_val:\n",
    "        max_val = v\n",
    "        max_idx = i\n",
    "max_min_asleep_for_given_id = max_idx*guard_id\n",
    "max_min_asleep_for_given_id\n"
   ]
  },
  {
   "cell_type": "code",
   "execution_count": 210,
   "metadata": {},
   "outputs": [
    {
     "data": {
      "text/plain": [
       "102095"
      ]
     },
     "execution_count": 210,
     "metadata": {},
     "output_type": "execute_result"
    }
   ],
   "source": [
    "## solution 2\n",
    "from collections import Counter as Cnt\n",
    "from datetime import datetime\n",
    "\n",
    "current_id = -1\n",
    "d_falls_asleep = Cnt()\n",
    "d_sum = Cnt()\n",
    "d_minutes = Cnt()\n",
    "for l in input_data:\n",
    "    dt = datetime.strptime(l[1].replace(']',''), '%H:%M')\n",
    "    if 'Guard' in l:\n",
    "        current_id = int(l[3][1:])\n",
    "        if current_id in d:\n",
    "            d[current_id] = 0\n",
    "    elif 'falls' in l:\n",
    "        d_falls_asleep[current_id] = dt.minute\n",
    "    elif 'wakes' in l:\n",
    "        d_sum[current_id] += (dt.minute-d_falls_asleep[current_id])\n",
    "        if current_id not in d_minutes:\n",
    "            d_minutes[current_id] = [0]*60\n",
    "        for i in range(d_falls_asleep[current_id], dt.minute):\n",
    "            d_minutes[current_id][i] += 1\n",
    "\n",
    "max_guard_id = 0   \n",
    "max_idx = 0\n",
    "max_val = 0\n",
    "for k,v in d_minutes.items():\n",
    "    for i,val in enumerate(v):\n",
    "        if val > max_val:\n",
    "            max_guard_id = k\n",
    "            max_val = val\n",
    "            max_idx = i\n",
    "\n",
    "max_guard_id * max_idx "
   ]
  },
  {
   "cell_type": "markdown",
   "metadata": {},
   "source": [
    "## [Day 5](https://adventofcode.com/2018/day/5)"
   ]
  },
  {
   "cell_type": "code",
   "execution_count": 52,
   "metadata": {},
   "outputs": [],
   "source": [
    "input_data = input_from_file(5)\n",
    "data = convert_to_list(input_data)[0]\n",
    "#print(data)"
   ]
  },
  {
   "cell_type": "code",
   "execution_count": 59,
   "metadata": {},
   "outputs": [
    {
     "data": {
      "text/plain": [
       "10250"
      ]
     },
     "execution_count": 59,
     "metadata": {},
     "output_type": "execute_result"
    }
   ],
   "source": [
    "## solution 1\n",
    "\n",
    "stack = []\n",
    "for d in data:\n",
    "    try:\n",
    "        if (ord(d) == ord(stack[-1])+32 or ord(d) == ord(stack[-1])-32):\n",
    "            stack.pop()\n",
    "        else:\n",
    "            stack.append(d)\n",
    "    except:\n",
    "        stack.append(d)\n",
    "len(stack)  \n"
   ]
  },
  {
   "cell_type": "code",
   "execution_count": 66,
   "metadata": {},
   "outputs": [
    {
     "data": {
      "text/plain": [
       "6188"
      ]
     },
     "execution_count": 66,
     "metadata": {},
     "output_type": "execute_result"
    }
   ],
   "source": [
    "## solution 2\n",
    "\n",
    "unit_types = set()\n",
    "for d in data:\n",
    "    unit_types.add(ord(d.lower()))        \n",
    "\n",
    "lenghts = []\n",
    "for ut in unit_types:\n",
    "    d = data\n",
    "    clean = d.replace(chr(ut), '').replace(chr(ut-32), '')\n",
    "    stack = []\n",
    "    for v in clean:\n",
    "        try:\n",
    "            if (ord(v) == ord(stack[-1])+32 or ord(v) == ord(stack[-1])-32):\n",
    "                stack.pop()\n",
    "            else:\n",
    "                stack.append(v)\n",
    "        except:\n",
    "            stack.append(v)        \n",
    "                     \n",
    "    lenghts.append(len(stack))\n",
    "\n",
    "min(lenghts)\n"
   ]
  },
  {
   "cell_type": "markdown",
   "metadata": {},
   "source": [
    "## [Day 6](https://adventofcode.com/2018/day/6)"
   ]
  },
  {
   "cell_type": "code",
   "execution_count": 32,
   "metadata": {},
   "outputs": [],
   "source": [
    "input_data = convert_to_list(input_from_file(6))"
   ]
  },
  {
   "cell_type": "code",
   "execution_count": 35,
   "metadata": {},
   "outputs": [
    {
     "name": "stdout",
     "output_type": "stream",
     "text": [
      "1 8 1 9\n",
      "[1, 1]\n",
      "[1, 6]\n",
      "[8, 3]\n",
      "[3, 4]\n",
      "[5, 5]\n",
      "[8, 9]\n"
     ]
    }
   ],
   "source": [
    "## solution 1\n",
    "import re\n",
    "from collections import defaultdict \n",
    "\n",
    "d = list(map(lambda s: list(map(int, re.findall(r'-?\\d+', s))), input_data))\n",
    "\n",
    "min_x = int(min(x[0] for x in d))\n",
    "max_x = int(max(x[0] for x in d))\n",
    "min_y = int(min(x[1] for x in d))\n",
    "max_y = int(max(x[1] for x in d))\n",
    "print(min_x, max_x, min_y, max_y)\n",
    "\n",
    "for i,v in enumerate(d):\n",
    "    \n",
    "    print(v)"
   ]
  },
  {
   "cell_type": "code",
   "execution_count": 21,
   "metadata": {},
   "outputs": [],
   "source": [
    "## solution 2\n"
   ]
  },
  {
   "cell_type": "markdown",
   "metadata": {},
   "source": [
    "## [Day 7](https://adventofcode.com/2018/day/7)"
   ]
  },
  {
   "cell_type": "code",
   "execution_count": 31,
   "metadata": {},
   "outputs": [],
   "source": [
    "import re\n",
    "input_data = convert_to_list(input_from_file(7))\n",
    "d = list(map(lambda line: re.findall(r'\\s+([A-Z])\\s+', line), input_data))\n",
    "# print(d)"
   ]
  },
  {
   "cell_type": "code",
   "execution_count": 21,
   "metadata": {},
   "outputs": [
    {
     "data": {
      "text/plain": [
       "'MNQKRSFWGXPZJCOTVYEBLAHIUD'"
      ]
     },
     "execution_count": 21,
     "metadata": {},
     "output_type": "execute_result"
    }
   ],
   "source": [
    "## solution 1\n",
    "\n",
    "def make_order(instructions):\n",
    "    letters = defaultdict(set)\n",
    "    all_letters = set()\n",
    "    for v in instructions:\n",
    "        letters[v[1]].add(v[0])\n",
    "        all_letters.add(v[0])\n",
    "        all_letters.add(v[1])\n",
    "\n",
    "    all_letters = sorted(all_letters)\n",
    "    order = []\n",
    "    done = set()\n",
    "    while all_letters:\n",
    "        for i,l in enumerate(all_letters):\n",
    "            if not (letters[l] - done):\n",
    "                order.append(l)\n",
    "                done.add(l)\n",
    "                del all_letters[i]\n",
    "                break\n",
    "    return order  \n",
    "\n",
    "''.join(make_order(d))"
   ]
  },
  {
   "cell_type": "code",
   "execution_count": 32,
   "metadata": {},
   "outputs": [
    {
     "data": {
      "text/plain": [
       "948"
      ]
     },
     "execution_count": 32,
     "metadata": {},
     "output_type": "execute_result"
    }
   ],
   "source": [
    "## solution 2\n",
    "def solve(instructions):\n",
    "    letters = defaultdict(set)\n",
    "    all_letters = set()\n",
    "    for v in instructions:\n",
    "        letters[v[1]].add(v[0])\n",
    "        all_letters.add(v[0])\n",
    "        all_letters.add(v[1])\n",
    "\n",
    "    all_letters = sorted(all_letters)\n",
    "    res = 0\n",
    "    workers = {k: None for k in range(5)}\n",
    "    while all_letters or any(workers.values()):\n",
    "        for worker in workers:\n",
    "            if workers[worker]:\n",
    "                letter, step = workers[worker]\n",
    "                if step == ord(letter) - ord('A') + 61:\n",
    "                    for c in letters:\n",
    "                        if letter in letters[c]:\n",
    "                            letters[c].remove(letter)\n",
    "                    workers[worker] = None\n",
    "                else:\n",
    "                    workers[worker] = (letter, step + 1)\n",
    "        for worker in workers:\n",
    "            if not workers[worker]:\n",
    "                if all_letters:\n",
    "                    possibilities = sorted([x for x in all_letters if (x not in letters) or (len(letters[x]) == 0)])\n",
    "                    if possibilities:\n",
    "                        letter = possibilities[0]\n",
    "                        workers[worker] = (letter, 1)\n",
    "                        all_letters.remove(letter)\n",
    "        res += 1\n",
    "    return (res - 1)\n",
    "\n",
    "solve(d)"
   ]
  },
  {
   "cell_type": "markdown",
   "metadata": {},
   "source": [
    "## [Day 8](https://adventofcode.com/2018/day/8)"
   ]
  },
  {
   "cell_type": "code",
   "execution_count": 43,
   "metadata": {},
   "outputs": [],
   "source": [
    "input_data = convert_to_list(input_from_file(8))[0].split()"
   ]
  },
  {
   "cell_type": "code",
   "execution_count": 45,
   "metadata": {},
   "outputs": [
    {
     "name": "stdout",
     "output_type": "stream",
     "text": [
      "#1: 40908\n",
      "#2: 25910\n"
     ]
    }
   ],
   "source": [
    "## solution 1\n",
    "## solution 2\n",
    "from collections import defaultdict\n",
    "data = iter(int(c) for c in input_data)\n",
    "\n",
    "\n",
    "def solve(n_children, n_meta):\n",
    "    if n_children == 0:\n",
    "        return [sum(next(data) for _ in range(n_meta))] * 2\n",
    "\n",
    "    meta, value = 0, 0\n",
    "    value_children = defaultdict(int)\n",
    "\n",
    "    for n in range(n_children):\n",
    "        m, value_children[n] = solve(next(data), next(data))\n",
    "        meta += m\n",
    "    for _ in range(n_meta):\n",
    "        m = next(data)\n",
    "        meta += m\n",
    "        value += value_children[m - 1]\n",
    "\n",
    "    return meta, value\n",
    "\n",
    "\n",
    "meta, value = solve(next(data), next(data))\n",
    "print(\"#1:\", meta)\n",
    "print(\"#2:\", value)"
   ]
  },
  {
   "cell_type": "markdown",
   "metadata": {},
   "source": [
    "## [Day 9](http://adventofcode.com/2018/day/9)"
   ]
  },
  {
   "cell_type": "code",
   "execution_count": 2,
   "metadata": {},
   "outputs": [],
   "source": [
    "input_data = input_from_file(9)\n",
    "d = map(lambda line: re.findall(r'\\d+', line), input_data)\n",
    "d = map(lambda v: int(v), d)"
   ]
  },
  {
   "cell_type": "code",
   "execution_count": 4,
   "metadata": {},
   "outputs": [
    {
     "data": {
      "text/plain": [
       "399645"
      ]
     },
     "execution_count": 4,
     "metadata": {},
     "output_type": "execute_result"
    }
   ],
   "source": [
    "## solution 1\n",
    "from collections import deque, defaultdict\n",
    "\n",
    "def play_game(max_players, last_marble):\n",
    "    scores = defaultdict(int)\n",
    "    circle = deque([0])\n",
    "\n",
    "    for marble in range(1, last_marble + 1):\n",
    "        if marble % 23 == 0:\n",
    "            circle.rotate(7)\n",
    "            scores[marble % max_players] += marble + circle.pop()\n",
    "            circle.rotate(-1)\n",
    "        else:\n",
    "            circle.rotate(-1)\n",
    "            circle.append(marble)\n",
    "\n",
    "    return max(scores.values()) if scores else 0\n",
    "\n",
    "play_game(429, 70901)"
   ]
  },
  {
   "cell_type": "code",
   "execution_count": 5,
   "metadata": {},
   "outputs": [
    {
     "data": {
      "text/plain": [
       "3352507536"
      ]
     },
     "execution_count": 5,
     "metadata": {},
     "output_type": "execute_result"
    }
   ],
   "source": [
    "## solution 2\n",
    "play_game(429, 7090100)"
   ]
  },
  {
   "cell_type": "markdown",
   "metadata": {},
   "source": [
    "## [Day 10](https://adventofcode.com/2018/day/10)"
   ]
  },
  {
   "cell_type": "code",
   "execution_count": 5,
   "metadata": {},
   "outputs": [],
   "source": [
    "input_data = convert_to_list(input_from_file(10))\n",
    "import re\n",
    "P = []\n",
    "for line in input_data:\n",
    "    x,y,vx,vy = map(int, re.findall('-?\\d+', line))\n",
    "    P.append([x,y,vx,vy])\n",
    "# print(P)"
   ]
  },
  {
   "cell_type": "code",
   "execution_count": 11,
   "metadata": {},
   "outputs": [],
   "source": [
    "## solutions (solution also available in day10.py)\n",
    "seconds = 0\n",
    "for t in range(100000):\n",
    "    min_x = min([x for x,y,_,_ in P])\n",
    "    max_x = max([x for x,y,_,_ in P])\n",
    "    min_y = min([y for x,y,_,_ in P])\n",
    "    max_y = max([y for x,y,_,_ in P])\n",
    "    W = 100\n",
    "    if min_x+W >= max_x and min_y + W >= max_y:\n",
    "        # print(t,min_x, max_x, min_y, max_y)\n",
    "        for y in range(min_y, max_y+1):\n",
    "            for x in range(min_x, max_x+1):\n",
    "                if (x,y) in [(px,py) for px,py,_,_ in P]:\n",
    "                    print('#', end ='')\n",
    "                else:\n",
    "                    print('.', end ='')\n",
    "            print()\n",
    "    print(seconds)\n",
    "    seconds += 1\n",
    "    for p in P:\n",
    "        p[0] += p[2]\n",
    "        p[1] += p[3]"
   ]
  },
  {
   "cell_type": "markdown",
   "metadata": {},
   "source": [
    "## [Day 11](https://adventofcode.com/2018/day/11)"
   ]
  },
  {
   "cell_type": "code",
   "execution_count": 56,
   "metadata": {},
   "outputs": [],
   "source": [
    "input_data = input_from_file(11)\n",
    "d = int(list(input_data)[0])\n",
    "#print(d)\n",
    "\n",
    "# https://www.geeksforgeeks.org/prefix-sum-2d-array/\n",
    "# https://en.wikipedia.org/wiki/Summed-area_table"
   ]
  },
  {
   "cell_type": "code",
   "execution_count": 58,
   "metadata": {},
   "outputs": [
    {
     "data": {
      "text/plain": [
       "(21, 41)"
      ]
     },
     "execution_count": 58,
     "metadata": {},
     "output_type": "execute_result"
    }
   ],
   "source": [
    "## solution 1\n",
    "width = 300\n",
    "\n",
    "def power_level(x, y, serial_num=d):\n",
    "    rack = x + 10\n",
    "    power = rack * y\n",
    "    power += serial_num\n",
    "    power *= rack\n",
    "    return (power // 100 % 10) - 5\n",
    "\n",
    "grid = [[0 for x in range(0, width+1)] for y in range(0, width+1)]\n",
    "\n",
    "# 2d prefix sums of the grid\n",
    "for x in range(1, width + 1):\n",
    "    for y in range(1, width + 1):\n",
    "        grid[x][y] = power_level(x, y) + grid[x-1][y] + grid[x][y-1] - grid[x-1][y-1]\n",
    "#print(grid)\n",
    "\n",
    "#compute values\n",
    "best = -INF\n",
    "bx = 0\n",
    "by = 0\n",
    "s = 3\n",
    "for x in range(s, width + 1):\n",
    "    for y in range(s, width + 1):\n",
    "        total_sum = grid[x][y] - grid[x-s][y] - grid[x][y-s] + grid[x-s][y-s]\n",
    "        if total_sum > best:\n",
    "            best = total_sum\n",
    "            bx = x\n",
    "            by = y\n",
    "bx-2,by-2\n"
   ]
  },
  {
   "cell_type": "code",
   "execution_count": 57,
   "metadata": {},
   "outputs": [
    {
     "data": {
      "text/plain": [
       "(227, 199, 19)"
      ]
     },
     "execution_count": 57,
     "metadata": {},
     "output_type": "execute_result"
    }
   ],
   "source": [
    "## solution 2\n",
    "best = -INF\n",
    "bx = 0\n",
    "by = 0\n",
    "bs = 0\n",
    "for s in range(1, width + 1):\n",
    "    for x in range(s, width + 1):\n",
    "        for y in range(s, width + 1):\n",
    "            total_sum = grid[x][y] - grid[x-s][y] - grid[x][y-s] + grid[x-s][y-s]\n",
    "            if total_sum > best:\n",
    "                best = total_sum\n",
    "                bx = x\n",
    "                by = y\n",
    "                bs = s\n",
    "                \n",
    "bx-bs+1, by-bs+1, bs"
   ]
  },
  {
   "cell_type": "markdown",
   "metadata": {},
   "source": [
    "## [Day 12](https://adventofcode.com/2018/day/12)"
   ]
  },
  {
   "cell_type": "code",
   "execution_count": 140,
   "metadata": {},
   "outputs": [],
   "source": [
    "with input_from_file(12) as f:\n",
    "    d = f.read().splitlines()\n",
    "#print(d)"
   ]
  },
  {
   "cell_type": "code",
   "execution_count": 141,
   "metadata": {},
   "outputs": [
    {
     "name": "stdout",
     "output_type": "stream",
     "text": [
      "Part 1: 3738\n"
     ]
    }
   ],
   "source": [
    "## solution 1\n",
    "import copy\n",
    "shift = 30\n",
    "init_state = ['.']*shift + list(d[0][15:]) + ['.']*shift\n",
    "notes = [(d[i][:5], d[i][9]) for i in range(2, len(d))]\n",
    "#print(init_state)\n",
    "#print(notes)\n",
    "\n",
    "def find_all_substrings(string, substr):\n",
    "    start = 0\n",
    "    while True:\n",
    "        start = string.find(substr, start)\n",
    "        if start == -1:\n",
    "            return\n",
    "        yield start\n",
    "        start += 1\n",
    "    \n",
    "def run_generation(last_state, patterns):\n",
    "    new_state = ['.']*len(last_state)\n",
    "    state_str = ''.join(last_state)\n",
    "    for p in patterns:\n",
    "        # check for all occurences\n",
    "        for idx in find_all_substrings(state_str, p[0]):\n",
    "            #print(idx, p[0])\n",
    "            new_state[idx+2] = p[1]\n",
    "    return new_state\n",
    "\n",
    "state = init_state\n",
    "for i in range(20):\n",
    "    #print(state)\n",
    "    #print('{}'.format(i))\n",
    "    state = run_generation(state, notes)\n",
    "\n",
    "#print(''.join(state))\n",
    "print('Part 1:', sum([i-shift for i,x in enumerate(state) if x =='#']))"
   ]
  },
  {
   "cell_type": "code",
   "execution_count": 164,
   "metadata": {},
   "outputs": [
    {
     "name": "stdout",
     "output_type": "stream",
     "text": [
      "Part 2: 8832\n"
     ]
    }
   ],
   "source": [
    "## solution 2\n",
    "###TODO \n",
    "shift = 1000\n",
    "init_state = ['.']*shift + list(d[0][15:]) + ['.']*shift\n",
    "notes = [(d[i][:5], d[i][9]) for i in range(2, len(d))]\n",
    "state = init_state\n",
    "\n",
    "for i in range(80):\n",
    "    state = run_generation(state, notes)\n",
    "\n",
    "print('Part 2:', sum([i-shift for i,x in enumerate(state) if x =='#']))"
   ]
  },
  {
   "cell_type": "markdown",
   "metadata": {},
   "source": [
    "## [Day 13](https://adventofcode.com/2018/day/13)"
   ]
  },
  {
   "cell_type": "code",
   "execution_count": 40,
   "metadata": {},
   "outputs": [],
   "source": [
    "input_data = input_from_file(13)"
   ]
  },
  {
   "cell_type": "code",
   "execution_count": 41,
   "metadata": {},
   "outputs": [],
   "source": [
    "## solution 1\n"
   ]
  },
  {
   "cell_type": "code",
   "execution_count": 42,
   "metadata": {},
   "outputs": [],
   "source": [
    "## solution 2\n"
   ]
  },
  {
   "cell_type": "markdown",
   "metadata": {},
   "source": [
    "## [Day 14](https://adventofcode.com/2018/day/14)"
   ]
  },
  {
   "cell_type": "code",
   "execution_count": 43,
   "metadata": {},
   "outputs": [],
   "source": [
    "input_data = input_from_file(14)"
   ]
  },
  {
   "cell_type": "code",
   "execution_count": 44,
   "metadata": {},
   "outputs": [],
   "source": [
    "## solution 1\n"
   ]
  },
  {
   "cell_type": "code",
   "execution_count": 45,
   "metadata": {},
   "outputs": [],
   "source": [
    "## solution 2\n"
   ]
  },
  {
   "cell_type": "markdown",
   "metadata": {},
   "source": [
    "## [Day 15](https://adventofcode.com/2018/day/15)"
   ]
  },
  {
   "cell_type": "code",
   "execution_count": 46,
   "metadata": {},
   "outputs": [],
   "source": [
    "input_data = input_from_file(15)"
   ]
  },
  {
   "cell_type": "code",
   "execution_count": 47,
   "metadata": {},
   "outputs": [],
   "source": [
    "## solution 1\n"
   ]
  },
  {
   "cell_type": "code",
   "execution_count": 48,
   "metadata": {},
   "outputs": [],
   "source": [
    "## solution 2\n"
   ]
  },
  {
   "cell_type": "markdown",
   "metadata": {},
   "source": [
    "## [Day 16](https://adventofcode.com/2018/day/16)"
   ]
  },
  {
   "cell_type": "code",
   "execution_count": 49,
   "metadata": {},
   "outputs": [],
   "source": [
    "input_data = input_from_file(16)"
   ]
  },
  {
   "cell_type": "code",
   "execution_count": 50,
   "metadata": {},
   "outputs": [],
   "source": [
    "## solution 1\n"
   ]
  },
  {
   "cell_type": "code",
   "execution_count": 51,
   "metadata": {},
   "outputs": [],
   "source": [
    "## solution 2\n"
   ]
  },
  {
   "cell_type": "markdown",
   "metadata": {},
   "source": [
    "## [Day 17](https://adventofcode.com/2018/day/17)"
   ]
  },
  {
   "cell_type": "code",
   "execution_count": 52,
   "metadata": {},
   "outputs": [],
   "source": [
    "input_data = input_from_file(17)"
   ]
  },
  {
   "cell_type": "code",
   "execution_count": 53,
   "metadata": {},
   "outputs": [],
   "source": [
    "## solution 1\n"
   ]
  },
  {
   "cell_type": "code",
   "execution_count": 54,
   "metadata": {},
   "outputs": [],
   "source": [
    "## solution 2\n"
   ]
  },
  {
   "cell_type": "markdown",
   "metadata": {},
   "source": [
    "## [Day 18](https://adventofcode.com/2018/day/18)"
   ]
  },
  {
   "cell_type": "code",
   "execution_count": 55,
   "metadata": {},
   "outputs": [],
   "source": [
    "input_data = input_from_file(18)"
   ]
  },
  {
   "cell_type": "code",
   "execution_count": 56,
   "metadata": {},
   "outputs": [],
   "source": [
    "## solution 1\n"
   ]
  },
  {
   "cell_type": "code",
   "execution_count": 57,
   "metadata": {},
   "outputs": [],
   "source": [
    "## solution 2\n"
   ]
  },
  {
   "cell_type": "markdown",
   "metadata": {},
   "source": [
    "## [Day 19](https://adventofcode.com/2018/day/19)"
   ]
  },
  {
   "cell_type": "code",
   "execution_count": 58,
   "metadata": {},
   "outputs": [],
   "source": [
    "input_data = input_from_file(19)"
   ]
  },
  {
   "cell_type": "code",
   "execution_count": 59,
   "metadata": {},
   "outputs": [],
   "source": [
    "## solution 1\n"
   ]
  },
  {
   "cell_type": "code",
   "execution_count": 60,
   "metadata": {},
   "outputs": [],
   "source": [
    "## solution 2\n"
   ]
  },
  {
   "cell_type": "markdown",
   "metadata": {},
   "source": [
    "## [Day 20](https://adventofcode.com/2018/day/20): "
   ]
  },
  {
   "cell_type": "code",
   "execution_count": 61,
   "metadata": {},
   "outputs": [],
   "source": [
    "input_data = input_from_file(20)"
   ]
  },
  {
   "cell_type": "code",
   "execution_count": 62,
   "metadata": {},
   "outputs": [],
   "source": [
    "## solution 1\n"
   ]
  },
  {
   "cell_type": "code",
   "execution_count": 63,
   "metadata": {},
   "outputs": [],
   "source": [
    "## solution 2\n"
   ]
  },
  {
   "cell_type": "markdown",
   "metadata": {},
   "source": [
    "## [Day 21](https://adventofcode.com/2018/day/21)"
   ]
  },
  {
   "cell_type": "code",
   "execution_count": 64,
   "metadata": {
    "scrolled": true
   },
   "outputs": [],
   "source": [
    "input_data = input_from_file(21)\n",
    "    "
   ]
  },
  {
   "cell_type": "code",
   "execution_count": 65,
   "metadata": {},
   "outputs": [],
   "source": [
    "## solution 1\n"
   ]
  },
  {
   "cell_type": "code",
   "execution_count": 66,
   "metadata": {},
   "outputs": [],
   "source": [
    "## solution 2\n"
   ]
  },
  {
   "cell_type": "markdown",
   "metadata": {},
   "source": [
    "## [Day 22](https://adventofcode.com/2018/day/22)"
   ]
  },
  {
   "cell_type": "code",
   "execution_count": 67,
   "metadata": {},
   "outputs": [],
   "source": [
    "input_data = input_from_file(22)"
   ]
  },
  {
   "cell_type": "code",
   "execution_count": 68,
   "metadata": {},
   "outputs": [],
   "source": [
    "## solution 1\n",
    "  "
   ]
  },
  {
   "cell_type": "code",
   "execution_count": 69,
   "metadata": {},
   "outputs": [],
   "source": [
    "## solution 2\n"
   ]
  },
  {
   "cell_type": "markdown",
   "metadata": {},
   "source": [
    "## [Day 23](https://adventofcode.com/2018/day/23)"
   ]
  },
  {
   "cell_type": "code",
   "execution_count": 70,
   "metadata": {},
   "outputs": [],
   "source": [
    "input_data = input_from_file(23)"
   ]
  },
  {
   "cell_type": "code",
   "execution_count": 71,
   "metadata": {},
   "outputs": [],
   "source": [
    "## solution 1\n"
   ]
  },
  {
   "cell_type": "code",
   "execution_count": 72,
   "metadata": {},
   "outputs": [],
   "source": [
    "## solution 2\n"
   ]
  },
  {
   "cell_type": "markdown",
   "metadata": {},
   "source": [
    "## [Day 24](https://adventofcode.com/2018/day/24)"
   ]
  },
  {
   "cell_type": "code",
   "execution_count": 73,
   "metadata": {},
   "outputs": [],
   "source": [
    "input_data = input_from_file(24)"
   ]
  },
  {
   "cell_type": "code",
   "execution_count": 74,
   "metadata": {},
   "outputs": [],
   "source": [
    "## solution 1\n"
   ]
  },
  {
   "cell_type": "code",
   "execution_count": 75,
   "metadata": {},
   "outputs": [],
   "source": [
    "## solution 2\n"
   ]
  },
  {
   "cell_type": "markdown",
   "metadata": {},
   "source": [
    "## [Day 25](https://adventofcode.com/2018/day/25)"
   ]
  },
  {
   "cell_type": "code",
   "execution_count": 76,
   "metadata": {},
   "outputs": [],
   "source": [
    "input_data = input_from_file(25)"
   ]
  },
  {
   "cell_type": "code",
   "execution_count": 77,
   "metadata": {},
   "outputs": [],
   "source": [
    "## solution 1     \n",
    "          "
   ]
  }
 ],
 "metadata": {
  "kernelspec": {
   "display_name": "Python 3",
   "language": "python",
   "name": "python3"
  },
  "language_info": {
   "codemirror_mode": {
    "name": "ipython",
    "version": 3
   },
   "file_extension": ".py",
   "mimetype": "text/x-python",
   "name": "python",
   "nbconvert_exporter": "python",
   "pygments_lexer": "ipython3",
   "version": "3.6.7"
  }
 },
 "nbformat": 4,
 "nbformat_minor": 2
}
