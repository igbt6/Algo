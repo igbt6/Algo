{
 "cells": [
  {
   "cell_type": "markdown",
   "metadata": {},
   "source": [
    "[Advent of code 2018](https://adventofcode.com) - Solutions written in python provided by Lukasz Uszko (aka \"igbt6\")"
   ]
  },
  {
   "cell_type": "markdown",
   "metadata": {},
   "source": [
    "### Utility Functions"
   ]
  },
  {
   "cell_type": "code",
   "execution_count": 1,
   "metadata": {},
   "outputs": [],
   "source": [
    "## Imports\n",
    "import math\n",
    "from collections import defaultdict\n",
    "from collections import Counter\n",
    "from collections import OrderedDict\n",
    "from collections import deque\n",
    "import operator\n",
    "import re\n",
    "import functools\n",
    "import copy\n",
    "\n",
    "## Variables\n",
    "INF = float('inf')\n",
    "NAN = float('nan')\n",
    "BIG_NUM_POS = 10 ** 999\n",
    "BIG_NUM_NEG = -10 ** 999\n",
    "\n",
    "###############################################################################################\n",
    "## Input helpers, data parsers etc\n",
    "###############################################################################################\n",
    "###############################################################################################\n",
    "def input_from_file(day):\n",
    "    \"Open this day's input file.\"\n",
    "    return open('inputs/input{}.txt'.format(day))\n",
    "\n",
    "###############################################################################################\n",
    "def test_from_file(day):\n",
    "    \"Open this day's test input file.\"\n",
    "    return open('test{}.txt'.format(day))\n",
    "\n",
    "###############################################################################################\n",
    "def convert_to_matrix(input_data):\n",
    "    \"Converts input data to 2D matrix\"\n",
    "    if (isinstance(input_data, str)):\n",
    "        input_data = input_data.splitlines()\n",
    "    return [map_to_tuple(convert_input_value, line.split()) for line in input_data]\n",
    "\n",
    "###############################################################################################\n",
    "def convert_to_list(input_data):\n",
    "    \"Converts input data to list\"\n",
    "    if (isinstance(input_data, str)):\n",
    "        input_data = input_data.split().replace('\\n', '')\n",
    "    return list(map(convert_input_value, input_data))\n",
    "\n",
    "###############################################################################################\n",
    "def convert_input_value(val):\n",
    "    try:\n",
    "        return int(val)\n",
    "    except ValueError:\n",
    "        try:\n",
    "            fl = float(val)\n",
    "            if math.isnan(fl) or math.isinf(fl):\n",
    "                raise ValueError()\n",
    "            return float(val)\n",
    "        except ValueError:\n",
    "            return val\n",
    "\n",
    "###############################################################################################\n",
    "## Iterable data helpers\n",
    "###############################################################################################\n",
    "def map_to_tuple(fn, *args):\n",
    "    \"Do a map and put the results into list\"\n",
    "    return tuple(map(fn, *args))\n",
    "\n",
    "###############################################################################################"
   ]
  },
  {
   "cell_type": "markdown",
   "metadata": {},
   "source": [
    "## [DAY 1](http://adventofcode.com/2018/day/1)"
   ]
  },
  {
   "cell_type": "code",
   "execution_count": 4,
   "metadata": {},
   "outputs": [],
   "source": [
    "# input data\n",
    "input_data = convert_to_list(input_from_file(1))"
   ]
  },
  {
   "cell_type": "code",
   "execution_count": 5,
   "metadata": {},
   "outputs": [
    {
     "data": {
      "text/plain": [
       "585"
      ]
     },
     "execution_count": 5,
     "metadata": {},
     "output_type": "execute_result"
    }
   ],
   "source": [
    "## solution 1\n",
    "sum(input_data)\n"
   ]
  },
  {
   "cell_type": "code",
   "execution_count": 6,
   "metadata": {},
   "outputs": [
    {
     "data": {
      "text/plain": [
       "83173"
      ]
     },
     "execution_count": 6,
     "metadata": {},
     "output_type": "execute_result"
    }
   ],
   "source": [
    "## solution 2\n",
    "reached_sums = set()\n",
    "curr_sum = 0\n",
    "idx = 0\n",
    "while True:\n",
    "    curr_sum += input_data[idx % len(input_data)]\n",
    "    if curr_sum in reached_sums:\n",
    "        break\n",
    "    reached_sums.add(curr_sum)\n",
    "    idx += 1\n",
    "curr_sum"
   ]
  },
  {
   "cell_type": "markdown",
   "metadata": {},
   "source": [
    "## [DAY 2](http://adventofcode.com/2018/day/2)"
   ]
  },
  {
   "cell_type": "code",
   "execution_count": 84,
   "metadata": {},
   "outputs": [],
   "source": [
    "# input data\n",
    "input_data = convert_to_list(input_from_file(2))\n",
    "input_data = list(map(lambda x:x.rstrip(), input_data))"
   ]
  },
  {
   "cell_type": "code",
   "execution_count": 100,
   "metadata": {},
   "outputs": [
    {
     "data": {
      "text/plain": [
       "6972"
      ]
     },
     "execution_count": 100,
     "metadata": {},
     "output_type": "execute_result"
    }
   ],
   "source": [
    "## solution 1\n",
    "from collections import Counter as Cnt\n",
    "#print(input_data)\n",
    "\n",
    "twice = 0\n",
    "three = 0\n",
    "\n",
    "for _id in input_data:\n",
    "    d = Cnt()\n",
    "    for l in _id:\n",
    "        d[l] += 1\n",
    "    prev_twice = twice\n",
    "    prev_three = three\n",
    "    for v in d.items():\n",
    "        if prev_twice == twice and v[1] == 2:\n",
    "            twice += 1\n",
    "        elif prev_three == three and v[1] == 3:\n",
    "            three += 1\n",
    "twice * three"
   ]
  },
  {
   "cell_type": "code",
   "execution_count": 125,
   "metadata": {},
   "outputs": [
    {
     "data": {
      "text/plain": [
       "'aixwcbzrmdvpsjfgllthdyoqe'"
      ]
     },
     "execution_count": 125,
     "metadata": {},
     "output_type": "execute_result"
    }
   ],
   "source": [
    "## solution 2\n",
    "def solve(input_data):\n",
    "    for i,vi in enumerate(input_data):\n",
    "        for j,vj in enumerate(input_data):\n",
    "            if j == i:\n",
    "                continue\n",
    "            diff = list(filter(lambda x: x[0]!=x[1], zip(vi,vj)))\n",
    "            if len(diff) == 1:\n",
    "                #print(diff[0][0], diff[0][1])\n",
    "                return ''.join([x[0] for x in filter(lambda x: x[0]==x[1], zip(vi,vj))])\n",
    "                \n",
    "solve(input_data)\n",
    "    "
   ]
  },
  {
   "cell_type": "markdown",
   "metadata": {},
   "source": [
    "## [Day 3](http://adventofcode.com/2018/day/3)"
   ]
  },
  {
   "cell_type": "code",
   "execution_count": 65,
   "metadata": {},
   "outputs": [],
   "source": [
    "# input data\n",
    "input_data = convert_to_list(input_from_file(3))\n"
   ]
  },
  {
   "cell_type": "code",
   "execution_count": 65,
   "metadata": {
    "scrolled": true
   },
   "outputs": [
    {
     "data": {
      "text/plain": [
       "113716"
      ]
     },
     "execution_count": 65,
     "metadata": {},
     "output_type": "execute_result"
    }
   ],
   "source": [
    "## solution 1\n",
    "import re\n",
    "from collections import Counter as Cnt\n",
    "claims = map(lambda line : map(int, re.findall(r'-?\\d+', line)), input_data)\n",
    "\n",
    "d = Cnt()\n",
    "\n",
    "for (num, start_x, start_y, width, height) in claims:\n",
    "    for x in range(start_x, start_x+width):\n",
    "        for y in range(start_y, start_y+height):\n",
    "            d[(x,y)] += 1\n",
    "sum([1 for k,v in d.items() if v > 1])"
   ]
  },
  {
   "cell_type": "code",
   "execution_count": 75,
   "metadata": {},
   "outputs": [
    {
     "data": {
      "text/plain": [
       "742"
      ]
     },
     "execution_count": 75,
     "metadata": {},
     "output_type": "execute_result"
    }
   ],
   "source": [
    "## solution 2\n",
    "import re\n",
    "from collections import Counter as Cnt\n",
    "claims = map(lambda line : map(int, re.findall(r'-?\\d+', line)), input_data)\n",
    "\n",
    "d = Cnt()\n",
    "\n",
    "sizes = Cnt()\n",
    "d_claimed = Cnt()\n",
    "\n",
    "for (num, start_x, start_y, width, height) in claims:\n",
    "    sizes[num] = width*height\n",
    "    \n",
    "    for x in range(start_x, start_x+width):\n",
    "        for y in range(start_y, start_y+height):\n",
    "            if d[(x,y)]:\n",
    "                d[(x,y)].append(num)\n",
    "            else:\n",
    "                d[(x,y)] = [num]\n",
    "\n",
    "for k,v in d.items():\n",
    "    if len(v) == 1:\n",
    "        d_claimed[v[0]] += 1\n",
    "_id = 0\n",
    "for k,v in d_claimed.items():\n",
    "    if sizes[k] == v:\n",
    "        _id = k\n",
    "        break\n",
    "_id    "
   ]
  },
  {
   "cell_type": "markdown",
   "metadata": {},
   "source": [
    "## [Day 4](https://adventofcode.com/2018/day/4)"
   ]
  },
  {
   "cell_type": "code",
   "execution_count": 3,
   "metadata": {},
   "outputs": [
    {
     "name": "stdout",
     "output_type": "stream",
     "text": [
      "['[1518-09-01 00:58] wakes up\\n', '[1518-04-28 00:44] wakes up\\n', '[1518-09-08 00:34] falls asleep\\n', '[1518-11-10 00:43] falls asleep\\n', '[1518-10-21 00:17] falls asleep\\n', '[1518-11-09 23:58] Guard #853 begins shift\\n', '[1518-07-21 00:55] falls asleep\\n', '[1518-04-23 00:06] falls asleep\\n', '[1518-08-12 00:01] Guard #2111 begins shift\\n', '[1518-11-02 00:03] Guard #151 begins shift\\n', '[1518-09-28 00:00] falls asleep\\n', '[1518-04-02 00:30] falls asleep\\n', '[1518-04-04 00:55] wakes up\\n', '[1518-04-07 00:23] wakes up\\n', '[1518-05-03 00:39] falls asleep\\n', '[1518-08-25 00:40] falls asleep\\n', '[1518-08-26 00:25] falls asleep\\n', '[1518-07-05 23:57] Guard #2917 begins shift\\n', '[1518-04-28 00:42] falls asleep\\n', '[1518-09-25 00:35] falls asleep\\n', '[1518-03-15 00:01] Guard #709 begins shift\\n', '[1518-05-05 00:00] Guard #2083 begins shift\\n', '[1518-08-11 00:47] wakes up\\n', '[1518-06-25 00:28] falls asleep\\n', '[1518-11-07 00:41] falls asleep\\n', '[1518-08-20 00:00] Guard #2663 begins shift\\n', '[1518-09-02 00:43] falls asleep\\n', '[1518-06-03 00:36] wakes up\\n', '[1518-04-08 00:41] wakes up\\n', '[1518-08-08 00:15] falls asleep\\n', '[1518-04-24 23:59] Guard #2887 begins shift\\n', '[1518-06-16 00:04] Guard #1093 begins shift\\n', '[1518-08-02 00:46] wakes up\\n', '[1518-09-05 00:48] falls asleep\\n', '[1518-07-21 23:58] Guard #1093 begins shift\\n', '[1518-04-29 00:04] Guard #709 begins shift\\n', '[1518-10-04 00:40] falls asleep\\n', '[1518-10-08 00:00] falls asleep\\n', '[1518-07-25 00:40] wakes up\\n', '[1518-04-07 00:54] falls asleep\\n', '[1518-09-06 23:57] Guard #73 begins shift\\n', '[1518-06-24 00:00] falls asleep\\n', '[1518-11-07 00:23] falls asleep\\n', '[1518-07-05 00:15] falls asleep\\n', '[1518-04-05 00:03] Guard #709 begins shift\\n', '[1518-06-11 00:00] Guard #1907 begins shift\\n', '[1518-07-29 00:05] falls asleep\\n', '[1518-10-17 23:59] Guard #3361 begins shift\\n', '[1518-03-26 00:40] falls asleep\\n', '[1518-08-13 00:53] wakes up\\n', '[1518-11-14 00:16] wakes up\\n', '[1518-06-17 00:27] wakes up\\n', '[1518-06-03 00:14] falls asleep\\n', '[1518-04-17 00:39] wakes up\\n', '[1518-05-19 00:29] falls asleep\\n', '[1518-05-14 00:40] falls asleep\\n', '[1518-09-22 00:07] falls asleep\\n', '[1518-07-24 00:48] falls asleep\\n', '[1518-05-08 00:58] wakes up\\n', '[1518-04-30 00:02] falls asleep\\n', '[1518-08-12 00:36] falls asleep\\n', '[1518-08-14 00:26] falls asleep\\n', '[1518-04-27 23:57] Guard #1741 begins shift\\n', '[1518-07-13 00:16] falls asleep\\n', '[1518-05-06 00:45] falls asleep\\n', '[1518-09-05 00:44] wakes up\\n', '[1518-08-13 00:52] falls asleep\\n', '[1518-10-25 00:49] wakes up\\n', '[1518-08-14 23:58] Guard #73 begins shift\\n', '[1518-10-26 00:06] falls asleep\\n', '[1518-08-24 00:37] falls asleep\\n', '[1518-11-07 23:58] Guard #709 begins shift\\n', '[1518-06-03 00:56] wakes up\\n', '[1518-06-23 00:14] falls asleep\\n', '[1518-06-04 00:57] wakes up\\n', '[1518-06-16 00:17] falls asleep\\n', '[1518-04-23 00:55] wakes up\\n', '[1518-05-25 00:03] Guard #593 begins shift\\n', '[1518-11-13 00:50] wakes up\\n', '[1518-05-14 00:47] wakes up\\n', '[1518-07-05 00:52] wakes up\\n', '[1518-08-27 00:47] wakes up\\n', '[1518-03-22 00:03] falls asleep\\n', '[1518-03-17 00:58] wakes up\\n', '[1518-07-12 00:23] falls asleep\\n', '[1518-04-25 00:43] wakes up\\n', '[1518-09-04 00:04] Guard #2917 begins shift\\n', '[1518-09-11 00:47] wakes up\\n', '[1518-03-27 23:56] Guard #593 begins shift\\n', '[1518-07-01 00:26] wakes up\\n', '[1518-04-01 00:41] wakes up\\n', '[1518-10-16 00:37] wakes up\\n', '[1518-06-11 00:07] falls asleep\\n', '[1518-10-18 00:46] falls asleep\\n', '[1518-07-30 23:58] Guard #2663 begins shift\\n', '[1518-11-01 00:00] Guard #2917 begins shift\\n', '[1518-10-09 00:53] wakes up\\n', '[1518-05-12 00:48] falls asleep\\n', '[1518-11-20 00:43] wakes up\\n', '[1518-11-11 23:58] Guard #709 begins shift\\n', '[1518-06-07 00:00] falls asleep\\n', '[1518-11-08 00:25] falls asleep\\n', '[1518-11-15 00:41] wakes up\\n', '[1518-10-04 00:29] wakes up\\n', '[1518-05-05 23:56] Guard #709 begins shift\\n', '[1518-06-25 00:53] wakes up\\n', '[1518-06-04 00:39] wakes up\\n', '[1518-05-17 00:07] falls asleep\\n', '[1518-10-04 00:17] falls asleep\\n', '[1518-07-23 00:48] falls asleep\\n', '[1518-09-03 00:49] falls asleep\\n', '[1518-10-26 00:37] falls asleep\\n', '[1518-09-17 00:37] falls asleep\\n', '[1518-10-17 00:58] wakes up\\n', '[1518-08-05 00:01] Guard #919 begins shift\\n', '[1518-03-22 00:17] wakes up\\n', '[1518-09-17 00:33] wakes up\\n', '[1518-05-01 23:58] Guard #1741 begins shift\\n', '[1518-05-01 00:00] Guard #2963 begins shift\\n', '[1518-03-24 00:02] Guard #73 begins shift\\n', '[1518-07-08 00:02] Guard #73 begins shift\\n', '[1518-08-15 00:30] falls asleep\\n', '[1518-08-23 00:27] wakes up\\n', '[1518-10-20 00:42] falls asleep\\n', '[1518-05-06 00:07] falls asleep\\n', '[1518-07-29 00:49] wakes up\\n', '[1518-07-02 00:16] wakes up\\n', '[1518-10-30 00:53] falls asleep\\n', '[1518-07-02 00:07] falls asleep\\n', '[1518-09-29 00:15] falls asleep\\n', '[1518-05-26 00:54] falls asleep\\n', '[1518-04-07 23:57] Guard #2917 begins shift\\n', '[1518-04-02 00:05] falls asleep\\n', '[1518-10-08 00:53] wakes up\\n', '[1518-05-23 00:37] wakes up\\n', '[1518-04-21 00:32] wakes up\\n', '[1518-04-16 23:58] Guard #2917 begins shift\\n', '[1518-05-12 00:03] Guard #151 begins shift\\n', '[1518-03-18 00:44] falls asleep\\n', '[1518-09-27 00:01] Guard #2111 begins shift\\n', '[1518-08-23 00:55] wakes up\\n', '[1518-09-13 00:40] wakes up\\n', '[1518-06-06 00:49] wakes up\\n', '[1518-07-01 00:17] falls asleep\\n', '[1518-03-31 00:52] wakes up\\n', '[1518-05-08 00:48] wakes up\\n', '[1518-10-28 00:34] falls asleep\\n', '[1518-07-28 00:06] falls asleep\\n', '[1518-11-21 00:02] Guard #919 begins shift\\n', '[1518-05-21 23:59] Guard #2917 begins shift\\n', '[1518-07-23 00:57] wakes up\\n', '[1518-06-07 23:57] Guard #2963 begins shift\\n', '[1518-03-16 00:09] wakes up\\n', '[1518-09-19 00:50] falls asleep\\n', '[1518-09-03 00:28] falls asleep\\n', '[1518-09-06 00:47] wakes up\\n', '[1518-10-12 00:13] falls asleep\\n', '[1518-05-13 00:59] wakes up\\n', '[1518-05-20 00:45] falls asleep\\n', '[1518-10-19 00:01] Guard #103 begins shift\\n', '[1518-06-23 00:02] Guard #1907 begins shift\\n', '[1518-11-13 00:22] wakes up\\n', '[1518-10-01 00:56] falls asleep\\n', '[1518-11-08 00:52] falls asleep\\n', '[1518-09-14 00:46] falls asleep\\n', '[1518-07-27 00:00] Guard #73 begins shift\\n', '[1518-10-10 00:24] falls asleep\\n', '[1518-09-26 00:51] falls asleep\\n', '[1518-06-14 00:24] wakes up\\n', '[1518-08-29 00:58] wakes up\\n', '[1518-11-09 00:11] wakes up\\n', '[1518-11-08 00:41] wakes up\\n', '[1518-09-04 00:33] falls asleep\\n', '[1518-07-17 00:56] wakes up\\n', '[1518-09-12 00:19] falls asleep\\n', '[1518-04-10 00:46] falls asleep\\n', '[1518-10-20 00:59] wakes up\\n', '[1518-09-29 00:33] wakes up\\n', '[1518-04-20 00:39] wakes up\\n', '[1518-08-26 00:38] wakes up\\n', '[1518-09-07 00:16] falls asleep\\n', '[1518-11-17 00:50] wakes up\\n', '[1518-08-23 00:26] falls asleep\\n', '[1518-06-06 00:57] falls asleep\\n', '[1518-08-26 00:18] wakes up\\n', '[1518-04-22 00:11] falls asleep\\n', '[1518-09-29 00:23] wakes up\\n', '[1518-05-06 23:58] Guard #1801 begins shift\\n', '[1518-04-03 00:08] falls asleep\\n', '[1518-06-10 00:23] falls asleep\\n', '[1518-07-18 00:46] wakes up\\n', '[1518-04-27 00:04] Guard #2887 begins shift\\n', '[1518-06-26 00:52] wakes up\\n', '[1518-07-01 00:35] falls asleep\\n', '[1518-06-27 00:10] wakes up\\n', '[1518-07-10 00:59] wakes up\\n', '[1518-10-26 23:56] Guard #919 begins shift\\n', '[1518-08-05 23:58] Guard #853 begins shift\\n', '[1518-09-14 00:25] falls asleep\\n', '[1518-03-23 00:04] Guard #1801 begins shift\\n', '[1518-03-19 23:56] Guard #2917 begins shift\\n', '[1518-08-13 00:00] Guard #1741 begins shift\\n', '[1518-04-29 00:54] wakes up\\n', '[1518-11-11 00:49] wakes up\\n', '[1518-09-26 00:58] wakes up\\n', '[1518-04-29 23:53] Guard #2663 begins shift\\n', '[1518-04-20 00:43] falls asleep\\n', '[1518-05-09 23:58] Guard #1801 begins shift\\n', '[1518-05-08 00:45] falls asleep\\n', '[1518-08-03 23:57] Guard #2843 begins shift\\n', '[1518-05-06 00:51] wakes up\\n', '[1518-09-02 00:53] wakes up\\n', '[1518-11-23 00:07] falls asleep\\n', '[1518-10-22 23:58] Guard #2963 begins shift\\n', '[1518-05-21 00:53] falls asleep\\n', '[1518-04-21 00:02] Guard #151 begins shift\\n', '[1518-08-02 00:03] Guard #1093 begins shift\\n', '[1518-04-07 00:10] falls asleep\\n', '[1518-09-18 00:02] Guard #593 begins shift\\n', '[1518-11-20 00:53] falls asleep\\n', '[1518-11-14 00:03] falls asleep\\n', '[1518-10-30 00:32] wakes up\\n', '[1518-09-18 23:56] Guard #2843 begins shift\\n', '[1518-05-31 00:04] Guard #2963 begins shift\\n', '[1518-09-09 00:07] falls asleep\\n', '[1518-07-26 00:24] falls asleep\\n', '[1518-10-19 23:58] Guard #2843 begins shift\\n', '[1518-07-18 00:31] falls asleep\\n', '[1518-07-19 00:24] falls asleep\\n', '[1518-10-09 00:31] falls asleep\\n', '[1518-08-29 00:54] wakes up\\n', '[1518-10-29 00:00] Guard #2843 begins shift\\n', '[1518-11-05 00:50] falls asleep\\n', '[1518-08-14 00:34] wakes up\\n', '[1518-08-20 00:57] falls asleep\\n', '[1518-05-19 00:57] wakes up\\n', '[1518-04-21 00:44] wakes up\\n', '[1518-09-09 00:50] wakes up\\n', '[1518-08-02 00:55] falls asleep\\n', '[1518-11-14 23:58] Guard #853 begins shift\\n', '[1518-09-10 00:39] falls asleep\\n', '[1518-04-15 00:44] wakes up\\n', '[1518-07-22 00:11] falls asleep\\n', '[1518-05-13 00:36] wakes up\\n', '[1518-08-22 00:50] falls asleep\\n', '[1518-07-11 00:29] wakes up\\n', '[1518-05-20 23:56] Guard #919 begins shift\\n', '[1518-08-01 00:53] wakes up\\n', '[1518-05-07 00:19] falls asleep\\n', '[1518-07-23 00:39] wakes up\\n', '[1518-05-26 23:59] Guard #919 begins shift\\n', '[1518-03-25 00:01] Guard #593 begins shift\\n', '[1518-04-24 00:53] wakes up\\n', '[1518-05-31 00:26] falls asleep\\n', '[1518-03-26 00:31] wakes up\\n', '[1518-06-11 00:57] falls asleep\\n', '[1518-06-11 00:41] wakes up\\n', '[1518-11-14 00:25] falls asleep\\n', '[1518-07-21 00:57] wakes up\\n', '[1518-08-17 00:54] falls asleep\\n', '[1518-04-09 00:52] wakes up\\n', '[1518-07-13 00:02] Guard #2111 begins shift\\n', '[1518-11-14 00:57] wakes up\\n', '[1518-05-23 00:02] Guard #2917 begins shift\\n', '[1518-05-28 00:02] Guard #1093 begins shift\\n', '[1518-03-21 00:50] wakes up\\n', '[1518-10-21 23:59] Guard #1801 begins shift\\n', '[1518-11-11 00:01] Guard #3361 begins shift\\n', '[1518-08-14 00:02] Guard #503 begins shift\\n', '[1518-09-26 00:30] falls asleep\\n', '[1518-04-14 00:34] falls asleep\\n', '[1518-03-17 00:57] falls asleep\\n', '[1518-06-07 00:11] falls asleep\\n', '[1518-04-12 23:56] Guard #103 begins shift\\n', '[1518-06-03 23:50] Guard #2663 begins shift\\n', '[1518-08-02 00:59] wakes up\\n', '[1518-05-22 00:11] falls asleep\\n', '[1518-05-11 00:51] falls asleep\\n', '[1518-05-23 23:59] Guard #2843 begins shift\\n', '[1518-09-20 00:53] wakes up\\n', '[1518-06-22 00:27] wakes up\\n', '[1518-04-01 00:00] Guard #2963 begins shift\\n', '[1518-08-18 00:56] wakes up\\n', '[1518-05-19 00:45] falls asleep\\n', '[1518-03-27 00:50] wakes up\\n', '[1518-11-04 00:49] falls asleep\\n', '[1518-03-15 00:53] wakes up\\n', '[1518-03-17 00:28] falls asleep\\n', '[1518-11-11 00:24] falls asleep\\n', '[1518-07-17 00:04] Guard #3361 begins shift\\n', '[1518-04-12 00:30] wakes up\\n', '[1518-11-19 00:55] wakes up\\n', '[1518-11-21 00:46] wakes up\\n', '[1518-04-22 00:37] wakes up\\n', '[1518-09-27 00:16] falls asleep\\n', '[1518-10-15 00:48] wakes up\\n', '[1518-03-26 00:42] wakes up\\n', '[1518-07-09 23:56] Guard #1093 begins shift\\n', '[1518-08-08 00:23] falls asleep\\n', '[1518-04-01 00:39] falls asleep\\n', '[1518-10-02 00:18] falls asleep\\n', '[1518-07-07 00:42] wakes up\\n', '[1518-06-26 23:56] Guard #503 begins shift\\n', '[1518-06-20 00:21] falls asleep\\n', '[1518-06-06 00:31] falls asleep\\n', '[1518-09-02 23:57] Guard #2663 begins shift\\n', '[1518-05-26 00:50] wakes up\\n', '[1518-08-02 00:31] falls asleep\\n', '[1518-04-04 00:31] falls asleep\\n', '[1518-08-27 00:03] Guard #2843 begins shift\\n', '[1518-08-10 00:34] wakes up\\n', '[1518-11-22 00:44] wakes up\\n', '[1518-10-27 00:30] falls asleep\\n', '[1518-03-23 00:16] falls asleep\\n', '[1518-07-21 00:00] Guard #3319 begins shift\\n', '[1518-08-29 00:57] falls asleep\\n', '[1518-09-22 00:00] Guard #503 begins shift\\n', '[1518-10-21 00:08] wakes up\\n', '[1518-08-23 00:41] falls asleep\\n', '[1518-07-14 00:35] wakes up\\n', '[1518-08-21 00:24] falls asleep\\n', '[1518-10-29 00:58] wakes up\\n', '[1518-04-26 00:26] falls asleep\\n', '[1518-10-03 23:58] Guard #2963 begins shift\\n', '[1518-09-05 00:52] wakes up\\n', '[1518-03-30 23:58] Guard #503 begins shift\\n', '[1518-10-29 00:46] falls asleep\\n', '[1518-04-23 00:09] wakes up\\n', '[1518-09-06 00:04] Guard #2083 begins shift\\n', '[1518-04-12 00:04] Guard #503 begins shift\\n', '[1518-06-16 23:58] Guard #2963 begins shift\\n', '[1518-10-23 23:53] Guard #3361 begins shift\\n', '[1518-03-15 00:12] falls asleep\\n', '[1518-09-12 23:58] Guard #2111 begins shift\\n', '[1518-08-25 23:53] Guard #2917 begins shift\\n', '[1518-11-18 00:40] wakes up\\n', '[1518-07-11 23:56] Guard #1741 begins shift\\n', '[1518-05-04 00:39] wakes up\\n', '[1518-09-10 00:05] falls asleep\\n', '[1518-09-15 00:16] falls asleep\\n', '[1518-05-13 00:44] falls asleep\\n', '[1518-07-16 00:39] wakes up\\n', '[1518-06-15 00:02] Guard #3319 begins shift\\n', '[1518-04-25 23:58] Guard #2917 begins shift\\n', '[1518-05-14 23:57] Guard #103 begins shift\\n', '[1518-06-13 00:58] wakes up\\n', '[1518-05-17 23:56] Guard #151 begins shift\\n', '[1518-08-29 00:14] falls asleep\\n', '[1518-11-02 00:47] falls asleep\\n', '[1518-05-23 00:54] falls asleep\\n', '[1518-04-21 23:56] Guard #1801 begins shift\\n', '[1518-11-08 00:40] falls asleep\\n', '[1518-03-21 00:27] wakes up\\n', '[1518-08-08 00:55] falls asleep\\n', '[1518-10-14 00:55] wakes up\\n', '[1518-06-22 00:00] Guard #709 begins shift\\n', '[1518-07-23 23:58] Guard #103 begins shift\\n', '[1518-07-04 00:03] Guard #1801 begins shift\\n', '[1518-04-18 00:48] wakes up\\n', '[1518-04-18 00:00] Guard #853 begins shift\\n', '[1518-07-02 00:51] wakes up\\n', '[1518-09-11 00:00] Guard #2843 begins shift\\n', '[1518-11-02 00:57] falls asleep\\n', '[1518-10-18 00:42] wakes up\\n', '[1518-10-14 00:44] falls asleep\\n', '[1518-08-10 00:00] Guard #2887 begins shift\\n', '[1518-06-01 00:29] wakes up\\n', '[1518-06-30 00:52] wakes up\\n', '[1518-06-25 23:57] Guard #2663 begins shift\\n', '[1518-06-09 00:57] falls asleep\\n', '[1518-05-31 00:36] falls asleep\\n', '[1518-09-21 00:01] falls asleep\\n', '[1518-08-05 00:35] wakes up\\n', '[1518-09-26 00:52] wakes up\\n', '[1518-06-13 00:10] falls asleep\\n', '[1518-08-04 00:49] wakes up\\n', '[1518-10-29 00:20] wakes up\\n', '[1518-09-05 00:01] Guard #2083 begins shift\\n', '[1518-08-17 00:24] wakes up\\n', '[1518-07-20 00:55] wakes up\\n', '[1518-06-01 23:58] Guard #1741 begins shift\\n', '[1518-04-24 00:02] Guard #2663 begins shift\\n', '[1518-04-10 23:51] Guard #1093 begins shift\\n', '[1518-09-29 00:43] falls asleep\\n', '[1518-06-03 00:00] Guard #1093 begins shift\\n', '[1518-07-28 00:49] wakes up\\n', '[1518-06-06 00:58] wakes up\\n', '[1518-08-21 00:36] wakes up\\n', '[1518-06-20 00:26] wakes up\\n', '[1518-10-04 23:59] Guard #709 begins shift\\n', '[1518-06-09 00:43] wakes up\\n', '[1518-10-31 00:53] wakes up\\n', '[1518-08-20 00:59] wakes up\\n', '[1518-11-21 00:44] falls asleep\\n', '[1518-07-17 00:21] falls asleep\\n', '[1518-04-27 00:35] wakes up\\n', '[1518-11-23 00:37] wakes up\\n', '[1518-07-20 00:01] falls asleep\\n', '[1518-06-05 23:58] Guard #103 begins shift\\n', '[1518-09-09 00:11] wakes up\\n', '[1518-11-09 00:31] falls asleep\\n', '[1518-03-27 00:02] Guard #1907 begins shift\\n', '[1518-08-21 00:01] Guard #2887 begins shift\\n', '[1518-06-20 00:39] falls asleep\\n', '[1518-08-22 00:01] Guard #1907 begins shift\\n', '[1518-09-14 00:43] wakes up\\n', '[1518-08-24 00:23] falls asleep\\n', '[1518-11-18 00:44] falls asleep\\n', '[1518-05-09 00:21] falls asleep\\n', '[1518-07-25 00:00] Guard #2887 begins shift\\n', '[1518-06-30 00:04] Guard #853 begins shift\\n', '[1518-04-04 00:51] falls asleep\\n', '[1518-10-26 00:31] wakes up\\n', '[1518-09-11 00:25] falls asleep\\n', '[1518-07-18 00:02] Guard #1907 begins shift\\n', '[1518-06-20 23:51] Guard #2111 begins shift\\n', '[1518-08-15 00:39] wakes up\\n', '[1518-04-09 00:01] Guard #103 begins shift\\n', '[1518-10-05 00:09] wakes up\\n', '[1518-10-21 00:05] falls asleep\\n', '[1518-08-31 00:59] wakes up\\n', '[1518-06-28 00:51] wakes up\\n', '[1518-05-28 00:59] wakes up\\n', '[1518-06-09 00:58] wakes up\\n', '[1518-08-25 00:02] falls asleep\\n', '[1518-08-28 00:58] wakes up\\n', '[1518-04-20 00:01] Guard #1907 begins shift\\n', '[1518-10-13 23:51] Guard #3319 begins shift\\n', '[1518-08-31 00:02] Guard #3361 begins shift\\n', '[1518-10-09 00:42] wakes up\\n', '[1518-08-11 00:29] wakes up\\n', '[1518-04-03 00:28] falls asleep\\n', '[1518-05-02 00:53] wakes up\\n', '[1518-07-12 00:41] falls asleep\\n', '[1518-11-20 00:59] wakes up\\n', '[1518-04-15 00:00] Guard #853 begins shift\\n', '[1518-07-04 00:20] falls asleep\\n', '[1518-04-16 00:30] falls asleep\\n', '[1518-05-17 00:02] Guard #2663 begins shift\\n', '[1518-09-01 23:58] Guard #3319 begins shift\\n', '[1518-06-02 00:42] falls asleep\\n', '[1518-10-15 00:05] falls asleep\\n', '[1518-03-18 00:00] Guard #2083 begins shift\\n', '[1518-10-20 23:50] Guard #1801 begins shift\\n', '[1518-04-18 00:08] falls asleep\\n', '[1518-04-12 00:47] falls asleep\\n', '[1518-11-03 00:25] falls asleep\\n', '[1518-10-08 00:30] wakes up\\n', '[1518-04-07 00:51] wakes up\\n', '[1518-08-06 00:59] wakes up\\n', '[1518-06-04 00:01] falls asleep\\n', '[1518-08-08 00:16] wakes up\\n', '[1518-07-27 00:35] falls asleep\\n', '[1518-10-30 00:42] falls asleep\\n', '[1518-11-13 00:49] falls asleep\\n', '[1518-10-07 00:27] falls asleep\\n', '[1518-04-06 00:15] falls asleep\\n', '[1518-07-08 00:34] wakes up\\n', '[1518-11-12 00:51] falls asleep\\n', '[1518-05-02 23:57] Guard #3361 begins shift\\n', '[1518-06-07 00:42] wakes up\\n', '[1518-06-18 00:31] wakes up\\n', '[1518-06-01 00:20] falls asleep\\n', '[1518-10-18 00:59] wakes up\\n', '[1518-11-07 00:56] wakes up\\n', '[1518-07-11 00:04] Guard #2111 begins shift\\n', '[1518-05-01 00:53] wakes up\\n', '[1518-05-12 00:40] wakes up\\n', '[1518-04-17 00:34] falls asleep\\n', '[1518-08-31 00:52] wakes up\\n', '[1518-05-20 00:00] Guard #2963 begins shift\\n', '[1518-08-11 00:04] Guard #1801 begins shift\\n', '[1518-06-30 00:20] wakes up\\n', '[1518-11-08 00:46] falls asleep\\n', '[1518-04-15 00:37] falls asleep\\n', '[1518-03-16 00:35] falls asleep\\n', '[1518-05-11 00:25] wakes up\\n', '[1518-11-20 00:00] Guard #853 begins shift\\n', '[1518-08-18 23:51] Guard #103 begins shift\\n', '[1518-05-03 00:42] wakes up\\n', '[1518-10-09 00:48] falls asleep\\n', '[1518-05-25 23:59] Guard #151 begins shift\\n', '[1518-06-23 23:50] Guard #1801 begins shift\\n', '[1518-10-03 00:56] falls asleep\\n', '[1518-04-23 00:47] falls asleep\\n', '[1518-09-09 23:48] Guard #1741 begins shift\\n', '[1518-09-03 00:58] wakes up\\n', '[1518-05-20 00:50] wakes up\\n', '[1518-05-15 00:49] wakes up\\n', '[1518-08-14 00:46] falls asleep\\n', '[1518-09-24 00:57] falls asleep\\n', '[1518-03-19 00:40] wakes up\\n', '[1518-07-22 00:44] wakes up\\n', '[1518-05-20 00:26] falls asleep\\n', '[1518-04-27 00:20] falls asleep\\n', '[1518-06-28 00:23] falls asleep\\n', '[1518-09-28 00:40] falls asleep\\n', '[1518-05-29 00:04] Guard #1741 begins shift\\n', '[1518-04-09 00:27] wakes up\\n', '[1518-08-27 00:45] falls asleep\\n', '[1518-07-07 00:21] falls asleep\\n', '[1518-06-09 00:00] falls asleep\\n', '[1518-08-31 00:57] falls asleep\\n', '[1518-07-22 00:58] wakes up\\n', '[1518-07-09 00:00] Guard #593 begins shift\\n', '[1518-09-20 23:52] Guard #2663 begins shift\\n', '[1518-07-02 00:00] Guard #1093 begins shift\\n', '[1518-05-30 00:04] falls asleep\\n', '[1518-09-30 00:32] falls asleep\\n', '[1518-10-03 00:43] falls asleep\\n', '[1518-05-28 00:53] falls asleep\\n', '[1518-08-16 00:37] wakes up\\n', '[1518-07-01 00:00] Guard #2917 begins shift\\n', '[1518-10-31 00:00] Guard #1907 begins shift\\n', '[1518-09-29 00:46] wakes up\\n', '[1518-04-27 00:32] falls asleep\\n', '[1518-09-16 00:21] falls asleep\\n', '[1518-09-07 00:46] wakes up\\n', '[1518-07-08 00:33] falls asleep\\n', '[1518-10-07 23:52] Guard #1741 begins shift\\n', '[1518-04-15 00:09] falls asleep\\n', '[1518-05-28 00:42] wakes up\\n', '[1518-10-17 00:54] falls asleep\\n', '[1518-11-05 00:36] wakes up\\n', '[1518-07-30 00:56] wakes up\\n', '[1518-04-13 00:49] wakes up\\n', '[1518-04-07 00:41] falls asleep\\n', '[1518-10-23 00:40] wakes up\\n', '[1518-08-06 00:40] wakes up\\n', '[1518-05-04 00:46] falls asleep\\n', '[1518-11-08 23:54] Guard #2111 begins shift\\n', '[1518-05-11 00:04] Guard #2083 begins shift\\n', '[1518-09-24 23:59] Guard #2083 begins shift\\n', '[1518-09-27 00:36] wakes up\\n', '[1518-05-18 00:43] wakes up\\n', '[1518-06-22 00:24] falls asleep\\n', '[1518-04-05 00:51] wakes up\\n', '[1518-08-03 00:00] Guard #2843 begins shift\\n', '[1518-09-01 00:48] wakes up\\n', '[1518-09-01 00:52] falls asleep\\n', '[1518-03-17 00:49] wakes up\\n', '[1518-05-09 00:00] Guard #2887 begins shift\\n', '[1518-06-08 00:50] wakes up\\n', '[1518-08-22 23:59] Guard #3361 begins shift\\n', '[1518-09-12 00:48] wakes up\\n', '[1518-05-18 23:57] Guard #103 begins shift\\n', '[1518-06-12 23:58] Guard #709 begins shift\\n', '[1518-05-23 00:32] falls asleep\\n', '[1518-05-05 00:07] falls asleep\\n', '[1518-03-20 00:35] falls asleep\\n', '[1518-03-23 00:26] wakes up\\n', '[1518-10-03 00:58] wakes up\\n', '[1518-03-20 00:46] falls asleep\\n', '[1518-07-12 00:47] wakes up\\n', '[1518-07-08 00:39] falls asleep\\n', '[1518-04-08 00:10] falls asleep\\n', '[1518-06-24 00:37] falls asleep\\n', '[1518-06-21 00:34] wakes up\\n', '[1518-08-28 23:56] Guard #2083 begins shift\\n', '[1518-10-02 00:51] wakes up\\n', '[1518-10-31 00:12] falls asleep\\n', '[1518-06-22 00:52] wakes up\\n', '[1518-10-10 00:58] wakes up\\n', '[1518-03-24 00:41] wakes up\\n', '[1518-04-29 00:43] falls asleep\\n', '[1518-04-21 00:43] falls asleep\\n', '[1518-10-16 23:50] Guard #853 begins shift\\n', '[1518-05-07 00:43] falls asleep\\n', '[1518-06-10 00:55] wakes up\\n', '[1518-08-08 00:56] wakes up\\n', '[1518-10-06 00:46] wakes up\\n', '[1518-11-04 00:58] wakes up\\n', '[1518-03-18 00:56] wakes up\\n', '[1518-10-11 00:01] falls asleep\\n', '[1518-04-07 00:02] Guard #853 begins shift\\n', '[1518-04-10 00:43] wakes up\\n', '[1518-10-29 00:08] falls asleep\\n', '[1518-04-03 00:01] Guard #3361 begins shift\\n', '[1518-08-15 00:47] falls asleep\\n', '[1518-08-26 00:02] falls asleep\\n', '[1518-03-30 00:31] wakes up\\n', '[1518-05-10 00:44] wakes up\\n', '[1518-11-18 00:03] falls asleep\\n', '[1518-08-17 00:58] wakes up\\n', '[1518-07-30 00:03] Guard #2917 begins shift\\n', '[1518-06-24 00:53] wakes up\\n', '[1518-09-20 00:19] falls asleep\\n', '[1518-10-06 00:00] Guard #73 begins shift\\n', '[1518-09-23 23:59] Guard #2663 begins shift\\n', '[1518-10-10 00:04] Guard #2963 begins shift\\n', '[1518-11-19 00:04] Guard #1093 begins shift\\n', '[1518-08-14 00:09] falls asleep\\n', '[1518-09-04 00:29] wakes up\\n', '[1518-05-24 00:14] falls asleep\\n', '[1518-07-18 23:57] Guard #1741 begins shift\\n', '[1518-06-12 00:03] Guard #1093 begins shift\\n', '[1518-03-17 00:01] Guard #709 begins shift\\n', '[1518-09-17 00:53] wakes up\\n', '[1518-07-14 00:05] falls asleep\\n', '[1518-05-07 00:48] wakes up\\n', '[1518-07-06 00:27] falls asleep\\n', '[1518-04-05 00:50] falls asleep\\n', '[1518-05-09 00:38] wakes up\\n', '[1518-10-19 00:27] falls asleep\\n', '[1518-09-30 00:48] wakes up\\n', '[1518-03-21 00:47] falls asleep\\n', '[1518-11-02 00:18] falls asleep\\n', '[1518-04-12 00:38] wakes up\\n', '[1518-05-26 00:58] wakes up\\n', '[1518-09-24 00:59] wakes up\\n', '[1518-09-14 00:04] Guard #853 begins shift\\n', '[1518-09-08 00:56] wakes up\\n', '[1518-07-17 00:38] wakes up\\n', '[1518-04-17 00:56] wakes up\\n', '[1518-04-20 00:48] wakes up\\n', '[1518-09-29 00:00] Guard #2887 begins shift\\n', '[1518-11-16 00:00] Guard #593 begins shift\\n', '[1518-11-04 00:00] Guard #709 begins shift\\n', '[1518-04-12 00:55] wakes up\\n', '[1518-09-08 00:04] Guard #1801 begins shift\\n', '[1518-07-03 00:18] falls asleep\\n', '[1518-05-01 00:14] falls asleep\\n', '[1518-05-14 00:00] Guard #2843 begins shift\\n', '[1518-03-19 00:04] Guard #1907 begins shift\\n', '[1518-07-30 00:13] falls asleep\\n', '[1518-10-11 00:55] wakes up\\n', '[1518-11-21 00:41] wakes up\\n', '[1518-04-03 00:37] wakes up\\n', '[1518-06-04 00:44] falls asleep\\n', '[1518-09-22 00:31] wakes up\\n', '[1518-05-23 00:55] wakes up\\n', '[1518-09-17 00:05] falls asleep\\n', '[1518-03-24 00:24] falls asleep\\n', '[1518-08-16 00:07] falls asleep\\n', '[1518-05-02 00:47] falls asleep\\n', '[1518-08-30 00:00] Guard #1801 begins shift\\n', '[1518-05-21 00:43] wakes up\\n', '[1518-08-18 00:45] wakes up\\n', '[1518-07-21 00:19] falls asleep\\n', '[1518-11-21 00:21] falls asleep\\n', '[1518-08-20 00:30] falls asleep\\n', '[1518-08-17 00:14] falls asleep\\n', '[1518-06-30 00:44] falls asleep\\n', '[1518-10-14 00:01] falls asleep\\n', '[1518-09-04 00:36] wakes up\\n', '[1518-04-01 23:47] Guard #1907 begins shift\\n', '[1518-08-25 00:33] wakes up\\n', '[1518-11-22 00:57] wakes up\\n', '[1518-05-16 00:48] wakes up\\n', '[1518-08-10 00:28] falls asleep\\n', '[1518-06-30 00:12] falls asleep\\n', '[1518-05-17 00:48] wakes up\\n', '[1518-06-19 00:00] Guard #1907 begins shift\\n', '[1518-10-14 00:33] wakes up\\n', '[1518-05-04 00:56] wakes up\\n', '[1518-03-31 00:37] falls asleep\\n', '[1518-09-16 23:50] Guard #2083 begins shift\\n', '[1518-11-05 00:59] wakes up\\n', '[1518-10-10 23:49] Guard #2917 begins shift\\n', '[1518-07-26 00:03] Guard #709 begins shift\\n', '[1518-06-08 00:21] falls asleep\\n', '[1518-05-10 00:23] falls asleep\\n', '[1518-11-01 00:13] falls asleep\\n', '[1518-07-17 00:43] falls asleep\\n', '[1518-09-29 00:30] falls asleep\\n', '[1518-11-22 00:37] falls asleep\\n', '[1518-08-24 00:00] Guard #2663 begins shift\\n', '[1518-08-17 00:03] Guard #503 begins shift\\n', '[1518-07-15 00:01] Guard #919 begins shift\\n', '[1518-05-07 23:59] Guard #2917 begins shift\\n', '[1518-05-08 00:38] wakes up\\n', '[1518-05-08 00:33] falls asleep\\n', '[1518-05-15 00:45] falls asleep\\n', '[1518-05-26 00:35] falls asleep\\n', '[1518-05-30 00:56] wakes up\\n', '[1518-09-04 00:11] falls asleep\\n', '[1518-06-23 00:50] wakes up\\n', '[1518-05-05 00:56] wakes up\\n', '[1518-05-03 00:59] wakes up\\n', '[1518-05-18 00:51] falls asleep\\n', '[1518-11-07 00:00] Guard #1741 begins shift\\n', '[1518-03-16 00:43] wakes up\\n', '[1518-10-24 00:59] wakes up\\n', '[1518-04-11 00:54] wakes up\\n', '[1518-05-29 00:35] falls asleep\\n', '[1518-09-23 00:03] Guard #1741 begins shift\\n', '[1518-09-15 00:56] wakes up\\n', '[1518-04-04 00:36] wakes up\\n', '[1518-07-19 00:51] wakes up\\n', '[1518-06-02 00:59] wakes up\\n', '[1518-06-07 00:29] wakes up\\n', '[1518-09-23 00:55] wakes up\\n', '[1518-07-31 00:50] falls asleep\\n', '[1518-04-15 23:57] Guard #1907 begins shift\\n', '[1518-07-08 00:47] wakes up\\n', '[1518-07-06 00:59] wakes up\\n', '[1518-09-29 23:57] Guard #1093 begins shift\\n', '[1518-05-11 00:19] falls asleep\\n', '[1518-05-12 00:37] falls asleep\\n', '[1518-11-02 00:51] wakes up\\n', '[1518-05-08 00:57] falls asleep\\n', '[1518-11-15 00:32] falls asleep\\n', '[1518-07-25 00:29] falls asleep\\n', '[1518-08-31 00:30] falls asleep\\n', '[1518-09-20 00:12] wakes up\\n', '[1518-07-02 23:58] Guard #1801 begins shift\\n', '[1518-08-12 00:47] wakes up\\n', '[1518-10-13 00:40] wakes up\\n', '[1518-03-20 00:47] wakes up\\n', '[1518-07-26 00:45] falls asleep\\n', '[1518-10-26 00:00] Guard #1093 begins shift\\n', '[1518-11-02 00:43] wakes up\\n', '[1518-04-20 00:27] falls asleep\\n', '[1518-11-13 00:00] Guard #1907 begins shift\\n', '[1518-08-08 23:59] Guard #2789 begins shift\\n', '[1518-04-19 00:53] wakes up\\n', '[1518-09-09 00:32] falls asleep\\n', '[1518-06-24 23:56] Guard #3319 begins shift\\n', '[1518-07-27 23:57] Guard #2963 begins shift\\n', '[1518-07-28 23:49] Guard #1741 begins shift\\n', '[1518-06-19 00:48] wakes up\\n', '[1518-08-16 00:02] Guard #2663 begins shift\\n', '[1518-09-03 00:45] wakes up\\n', '[1518-09-14 00:49] wakes up\\n', '[1518-10-30 00:01] Guard #3361 begins shift\\n', '[1518-04-25 00:13] falls asleep\\n', '[1518-09-19 23:51] Guard #2963 begins shift\\n', '[1518-11-06 00:39] falls asleep\\n', '[1518-08-11 00:15] falls asleep\\n', '[1518-11-20 00:37] falls asleep\\n', '[1518-11-13 23:50] Guard #709 begins shift\\n', '[1518-11-02 00:58] wakes up\\n', '[1518-10-27 00:42] wakes up\\n', '[1518-08-30 00:15] falls asleep\\n', '[1518-06-11 00:59] wakes up\\n', '[1518-08-24 00:30] wakes up\\n', '[1518-10-25 00:04] Guard #2843 begins shift\\n', '[1518-08-31 23:59] Guard #1801 begins shift\\n', '[1518-06-24 00:28] wakes up\\n', '[1518-04-27 00:23] wakes up\\n', '[1518-08-03 00:21] falls asleep\\n', '[1518-05-04 00:29] falls asleep\\n', '[1518-10-17 00:46] wakes up\\n', '[1518-06-29 00:00] Guard #593 begins shift\\n', '[1518-04-06 00:00] Guard #2843 begins shift\\n', '[1518-07-15 00:40] wakes up\\n', '[1518-05-24 00:53] wakes up\\n', '[1518-10-17 00:00] falls asleep\\n', '[1518-06-06 23:53] Guard #2663 begins shift\\n', '[1518-07-22 00:53] falls asleep\\n', '[1518-10-01 00:57] wakes up\\n', '[1518-04-06 00:44] wakes up\\n', '[1518-10-14 23:49] Guard #73 begins shift\\n', '[1518-06-17 23:50] Guard #2963 begins shift\\n', '[1518-11-22 00:56] falls asleep\\n', '[1518-10-22 00:13] falls asleep\\n', '[1518-04-13 23:58] Guard #919 begins shift\\n', '[1518-11-08 00:26] wakes up\\n', '[1518-10-26 00:53] wakes up\\n', '[1518-08-28 00:01] Guard #1741 begins shift\\n', '[1518-08-01 00:14] falls asleep\\n', '[1518-07-22 23:57] Guard #1801 begins shift\\n', '[1518-05-18 00:11] falls asleep\\n', '[1518-05-27 00:20] falls asleep\\n', '[1518-07-05 00:42] falls asleep\\n', '[1518-07-08 00:53] falls asleep\\n', '[1518-08-24 00:42] wakes up\\n', '[1518-11-17 00:15] falls asleep\\n', '[1518-06-12 00:50] wakes up\\n', '[1518-09-10 00:25] wakes up\\n', '[1518-05-21 00:27] falls asleep\\n', '[1518-03-29 00:43] wakes up\\n', '[1518-10-21 00:49] wakes up\\n', '[1518-07-10 00:52] falls asleep\\n', '[1518-07-11 00:21] falls asleep\\n', '[1518-07-07 00:01] Guard #2917 begins shift\\n', '[1518-10-30 00:47] wakes up\\n', '[1518-03-31 00:31] wakes up\\n', '[1518-10-13 00:11] falls asleep\\n', '[1518-08-24 23:52] Guard #503 begins shift\\n', '[1518-09-16 00:49] wakes up\\n', '[1518-08-06 00:46] falls asleep\\n', '[1518-07-02 00:25] falls asleep\\n', '[1518-06-16 00:52] wakes up\\n', '[1518-10-02 00:03] Guard #73 begins shift\\n', '[1518-04-02 00:09] wakes up\\n', '[1518-04-09 00:48] falls asleep\\n', '[1518-05-31 00:56] wakes up\\n', '[1518-06-14 00:45] wakes up\\n', '[1518-07-26 00:40] wakes up\\n', '[1518-04-09 00:15] falls asleep\\n', '[1518-05-06 00:16] wakes up\\n', '[1518-10-16 00:02] Guard #1741 begins shift\\n', '[1518-06-03 00:47] falls asleep\\n', '[1518-06-12 00:32] falls asleep\\n', '[1518-11-09 00:56] wakes up\\n', '[1518-11-06 00:54] wakes up\\n', '[1518-11-07 00:35] wakes up\\n', '[1518-04-30 00:14] falls asleep\\n', '[1518-06-05 00:42] wakes up\\n', '[1518-04-04 00:02] Guard #2917 begins shift\\n', '[1518-03-31 00:43] wakes up\\n', '[1518-11-19 00:34] falls asleep\\n', '[1518-03-26 00:02] falls asleep\\n', '[1518-07-05 00:27] wakes up\\n', '[1518-08-07 00:04] Guard #3449 begins shift\\n', '[1518-05-21 00:09] falls asleep\\n', '[1518-05-10 00:56] falls asleep\\n', '[1518-10-07 00:56] wakes up\\n', '[1518-07-16 00:03] Guard #1907 begins shift\\n', '[1518-05-29 00:54] wakes up\\n', '[1518-04-28 00:47] falls asleep\\n', '[1518-04-13 00:12] falls asleep\\n', '[1518-10-05 00:07] falls asleep\\n', '[1518-10-19 00:52] wakes up\\n', '[1518-10-06 00:32] falls asleep\\n', '[1518-05-10 00:59] wakes up\\n', '[1518-11-13 00:16] falls asleep\\n', '[1518-08-03 00:55] wakes up\\n', '[1518-05-12 23:57] Guard #1907 begins shift\\n', '[1518-09-13 00:23] falls asleep\\n', '[1518-10-08 00:37] falls asleep\\n', '[1518-09-23 00:24] falls asleep\\n', '[1518-09-01 00:31] falls asleep\\n', '[1518-03-15 23:53] Guard #919 begins shift\\n', '[1518-08-22 00:16] falls asleep\\n', '[1518-04-12 00:34] falls asleep\\n', '[1518-10-11 23:58] Guard #3361 begins shift\\n', '[1518-05-21 00:11] wakes up\\n', '[1518-05-19 00:41] wakes up\\n', '[1518-11-09 00:01] falls asleep\\n', '[1518-10-28 00:49] wakes up\\n', '[1518-08-22 00:44] wakes up\\n', '[1518-04-18 23:58] Guard #1093 begins shift\\n', '[1518-06-27 23:57] Guard #919 begins shift\\n', '[1518-11-12 00:53] wakes up\\n', '[1518-07-01 00:57] wakes up\\n', '[1518-08-25 00:43] wakes up\\n', '[1518-09-15 00:01] Guard #103 begins shift\\n', '[1518-07-16 00:36] falls asleep\\n', '[1518-04-03 00:18] wakes up\\n', '[1518-06-18 00:03] falls asleep\\n', '[1518-05-20 00:27] wakes up\\n', '[1518-10-07 00:00] Guard #1907 begins shift\\n', '[1518-08-11 00:38] falls asleep\\n', '[1518-04-15 00:11] wakes up\\n', '[1518-11-08 00:47] wakes up\\n', '[1518-03-20 00:40] wakes up\\n', '[1518-11-10 00:47] wakes up\\n', '[1518-07-08 00:58] wakes up\\n', '[1518-10-25 00:47] falls asleep\\n', '[1518-05-04 00:02] Guard #73 begins shift\\n', '[1518-03-30 00:21] falls asleep\\n', '[1518-04-24 00:28] falls asleep\\n', '[1518-10-30 00:11] falls asleep\\n', '[1518-06-15 00:08] falls asleep\\n', '[1518-07-04 00:44] wakes up\\n', '[1518-04-28 00:48] wakes up\\n', '[1518-06-15 00:56] wakes up\\n', '[1518-08-08 00:03] Guard #2663 begins shift\\n', '[1518-03-19 00:25] falls asleep\\n', '[1518-10-22 00:28] wakes up\\n', '[1518-09-26 00:02] Guard #2843 begins shift\\n', '[1518-06-22 00:35] falls asleep\\n', '[1518-10-16 00:13] falls asleep\\n', '[1518-08-02 00:40] falls asleep\\n', '[1518-11-21 23:59] Guard #919 begins shift\\n', '[1518-06-05 00:01] falls asleep\\n', '[1518-05-03 00:57] falls asleep\\n', '[1518-07-20 00:38] falls asleep\\n', '[1518-07-20 00:22] wakes up\\n', '[1518-06-09 23:57] Guard #151 begins shift\\n', '[1518-09-21 00:24] wakes up\\n', '[1518-06-12 00:49] falls asleep\\n', '[1518-07-24 00:53] wakes up\\n', '[1518-11-16 23:57] Guard #2843 begins shift\\n', '[1518-09-28 00:36] wakes up\\n', '[1518-10-12 00:47] wakes up\\n', '[1518-06-07 00:04] wakes up\\n', '[1518-03-29 00:24] falls asleep\\n', '[1518-11-05 00:01] Guard #1741 begins shift\\n', '[1518-09-20 00:02] falls asleep\\n', '[1518-06-01 00:37] falls asleep\\n', '[1518-04-26 00:52] wakes up\\n', '[1518-03-25 23:49] Guard #853 begins shift\\n', '[1518-10-18 00:36] falls asleep\\n', '[1518-08-28 00:18] falls asleep\\n', '[1518-06-17 00:08] falls asleep\\n', '[1518-10-30 00:58] wakes up\\n', '[1518-04-12 00:17] falls asleep\\n', '[1518-05-15 23:56] Guard #853 begins shift\\n', '[1518-04-02 00:55] wakes up\\n', '[1518-10-01 00:01] Guard #2963 begins shift\\n', '[1518-05-22 00:58] wakes up\\n', '[1518-11-12 00:47] wakes up\\n', '[1518-11-01 00:41] wakes up\\n', '[1518-03-29 00:52] falls asleep\\n', '[1518-09-19 00:54] wakes up\\n', '[1518-11-03 00:32] wakes up\\n', '[1518-03-31 00:19] falls asleep\\n', '[1518-06-23 00:25] wakes up\\n', '[1518-07-21 00:51] wakes up\\n', '[1518-08-30 00:42] wakes up\\n', '[1518-11-08 00:56] wakes up\\n', '[1518-03-16 00:01] falls asleep\\n', '[1518-04-10 00:04] Guard #3319 begins shift\\n', '[1518-08-08 00:51] wakes up\\n', '[1518-03-29 23:56] Guard #2887 begins shift\\n', '[1518-04-07 00:57] wakes up\\n', '[1518-06-27 00:09] falls asleep\\n', '[1518-04-17 00:45] falls asleep\\n', '[1518-09-15 00:33] falls asleep\\n', '[1518-11-06 00:00] Guard #2843 begins shift\\n', '[1518-09-26 00:48] wakes up\\n', '[1518-05-11 00:58] wakes up\\n', '[1518-08-14 00:56] wakes up\\n', '[1518-06-07 00:38] falls asleep\\n', '[1518-03-20 00:54] falls asleep\\n', '[1518-08-25 00:49] falls asleep\\n', '[1518-11-18 00:57] wakes up\\n', '[1518-05-28 00:11] falls asleep\\n', '[1518-06-19 00:43] falls asleep\\n', '[1518-09-05 00:42] falls asleep\\n', '[1518-08-18 00:00] Guard #1801 begins shift\\n', '[1518-05-29 23:51] Guard #853 begins shift\\n', '[1518-05-18 00:52] wakes up\\n', '[1518-06-14 00:03] falls asleep\\n', '[1518-11-12 00:42] falls asleep\\n', '[1518-07-27 00:54] wakes up\\n', '[1518-10-03 00:53] wakes up\\n', '[1518-04-21 00:15] falls asleep\\n', '[1518-08-06 00:12] falls asleep\\n', '[1518-08-18 00:27] falls asleep\\n', '[1518-04-30 00:09] wakes up\\n', '[1518-03-21 23:52] Guard #2887 begins shift\\n', '[1518-07-31 00:58] wakes up\\n', '[1518-07-26 00:53] wakes up\\n', '[1518-05-16 00:22] falls asleep\\n', '[1518-09-15 00:24] wakes up\\n', '[1518-03-27 00:10] falls asleep\\n', '[1518-06-20 00:46] wakes up\\n', '[1518-05-27 00:34] wakes up\\n', '[1518-08-05 00:27] falls asleep\\n', '[1518-11-17 23:53] Guard #853 begins shift\\n', '[1518-06-21 00:03] falls asleep\\n', '[1518-04-30 00:52] wakes up\\n', '[1518-06-13 23:48] Guard #2663 begins shift\\n', '[1518-07-19 23:52] Guard #503 begins shift\\n', '[1518-06-20 00:00] Guard #1093 begins shift\\n', '[1518-09-28 00:51] wakes up\\n', '[1518-07-13 00:49] wakes up\\n', '[1518-05-31 23:58] Guard #2111 begins shift\\n', '[1518-07-23 00:13] falls asleep\\n', '[1518-09-26 00:57] falls asleep\\n', '[1518-11-23 00:04] Guard #2843 begins shift\\n', '[1518-06-01 00:41] wakes up\\n', '[1518-06-04 23:52] Guard #2887 begins shift\\n', '[1518-10-09 00:00] Guard #709 begins shift\\n', '[1518-09-25 00:43] wakes up\\n', '[1518-04-22 23:56] Guard #2843 begins shift\\n', '[1518-11-03 00:01] Guard #1907 begins shift\\n', '[1518-08-01 00:01] Guard #3361 begins shift\\n', '[1518-04-10 00:58] wakes up\\n', '[1518-09-09 00:01] Guard #2663 begins shift\\n', '[1518-08-18 00:54] falls asleep\\n', '[1518-04-10 00:36] falls asleep\\n', '[1518-08-20 00:52] wakes up\\n', '[1518-06-23 00:47] falls asleep\\n', '[1518-06-08 23:50] Guard #1093 begins shift\\n', '[1518-06-26 00:07] falls asleep\\n', '[1518-08-14 00:11] wakes up\\n', '[1518-08-15 00:49] wakes up\\n', '[1518-04-16 00:52] wakes up\\n', '[1518-05-13 00:10] falls asleep\\n', '[1518-09-19 00:40] falls asleep\\n', '[1518-07-03 00:58] wakes up\\n', '[1518-03-31 00:50] falls asleep\\n', '[1518-03-20 23:46] Guard #3319 begins shift\\n', '[1518-09-27 23:47] Guard #709 begins shift\\n', '[1518-08-02 00:37] wakes up\\n', '[1518-05-07 00:34] wakes up\\n', '[1518-04-11 00:00] falls asleep\\n', '[1518-08-22 00:51] wakes up\\n', '[1518-07-05 00:03] Guard #1741 begins shift\\n', '[1518-03-29 00:01] Guard #1801 begins shift\\n', '[1518-05-31 00:33] wakes up\\n', '[1518-07-15 00:26] falls asleep\\n', '[1518-04-14 00:55] wakes up\\n', '[1518-09-10 00:41] wakes up\\n', '[1518-03-21 00:04] falls asleep\\n', '[1518-09-11 23:56] Guard #1907 begins shift\\n', '[1518-10-28 00:00] Guard #73 begins shift\\n', '[1518-06-12 00:41] wakes up\\n', '[1518-03-29 00:56] wakes up\\n', '[1518-08-25 00:57] wakes up\\n', '[1518-05-21 00:59] wakes up\\n', '[1518-08-04 00:15] falls asleep\\n', '[1518-07-13 23:50] Guard #503 begins shift\\n', '[1518-09-15 23:58] Guard #151 begins shift\\n', '[1518-10-04 00:48] wakes up\\n', '[1518-07-12 00:35] wakes up\\n', '[1518-08-19 00:05] falls asleep\\n', '[1518-10-24 00:04] falls asleep\\n', '[1518-04-19 00:16] falls asleep\\n', '[1518-06-14 00:34] falls asleep\\n', '[1518-03-20 00:57] wakes up\\n', '[1518-10-12 23:56] Guard #2663 begins shift\\n', '[1518-09-19 00:45] wakes up\\n', '[1518-09-06 00:06] falls asleep\\n', '[1518-10-02 23:58] Guard #103 begins shift\\n', '[1518-05-12 00:58] wakes up\\n', '[1518-10-23 00:08] falls asleep\\n', '[1518-08-19 00:46] wakes up\\n', '[1518-11-05 00:17] falls asleep']\n"
     ]
    }
   ],
   "source": [
    "input_data = convert_to_list(input_from_file(4))\n",
    "print(input_data)"
   ]
  },
  {
   "cell_type": "code",
   "execution_count": 78,
   "metadata": {},
   "outputs": [
    {
     "ename": "AttributeError",
     "evalue": "'str' object has no attribute 'spilt'",
     "output_type": "error",
     "traceback": [
      "\u001b[0;31m---------------------------------------------------------------------------\u001b[0m",
      "\u001b[0;31mAttributeError\u001b[0m                            Traceback (most recent call last)",
      "\u001b[0;32m<ipython-input-78-79a80979e292>\u001b[0m in \u001b[0;36m<module>\u001b[0;34m()\u001b[0m\n\u001b[1;32m      8\u001b[0m \u001b[0;32mdef\u001b[0m \u001b[0mparse_time\u001b[0m\u001b[0;34m(\u001b[0m\u001b[0mtime\u001b[0m\u001b[0;34m)\u001b[0m\u001b[0;34m:\u001b[0m\u001b[0;34m\u001b[0m\u001b[0;34m\u001b[0m\u001b[0m\n\u001b[1;32m      9\u001b[0m     \u001b[0;32mpass\u001b[0m\u001b[0;34m\u001b[0m\u001b[0;34m\u001b[0m\u001b[0m\n\u001b[0;32m---> 10\u001b[0;31m \u001b[0mlines\u001b[0m \u001b[0;34m=\u001b[0m \u001b[0mlist\u001b[0m\u001b[0;34m(\u001b[0m\u001b[0mmap\u001b[0m\u001b[0;34m(\u001b[0m\u001b[0;32mlambda\u001b[0m \u001b[0ml\u001b[0m \u001b[0;34m:\u001b[0m \u001b[0ml\u001b[0m\u001b[0;34m.\u001b[0m\u001b[0mspilt\u001b[0m\u001b[0;34m(\u001b[0m\u001b[0;34m)\u001b[0m\u001b[0;34m,\u001b[0m \u001b[0minput_data\u001b[0m\u001b[0;34m)\u001b[0m\u001b[0;34m)\u001b[0m\u001b[0;34m\u001b[0m\u001b[0;34m\u001b[0m\u001b[0m\n\u001b[0m\u001b[1;32m     11\u001b[0m \u001b[0mprint\u001b[0m\u001b[0;34m(\u001b[0m\u001b[0mlines\u001b[0m\u001b[0;34m)\u001b[0m\u001b[0;34m\u001b[0m\u001b[0;34m\u001b[0m\u001b[0m\n\u001b[1;32m     12\u001b[0m \u001b[0md\u001b[0m \u001b[0;34m=\u001b[0m\u001b[0mCnt\u001b[0m\u001b[0;34m(\u001b[0m\u001b[0;34m)\u001b[0m\u001b[0;34m\u001b[0m\u001b[0;34m\u001b[0m\u001b[0m\n",
      "\u001b[0;32m<ipython-input-78-79a80979e292>\u001b[0m in \u001b[0;36m<lambda>\u001b[0;34m(l)\u001b[0m\n\u001b[1;32m      8\u001b[0m \u001b[0;32mdef\u001b[0m \u001b[0mparse_time\u001b[0m\u001b[0;34m(\u001b[0m\u001b[0mtime\u001b[0m\u001b[0;34m)\u001b[0m\u001b[0;34m:\u001b[0m\u001b[0;34m\u001b[0m\u001b[0;34m\u001b[0m\u001b[0m\n\u001b[1;32m      9\u001b[0m     \u001b[0;32mpass\u001b[0m\u001b[0;34m\u001b[0m\u001b[0;34m\u001b[0m\u001b[0m\n\u001b[0;32m---> 10\u001b[0;31m \u001b[0mlines\u001b[0m \u001b[0;34m=\u001b[0m \u001b[0mlist\u001b[0m\u001b[0;34m(\u001b[0m\u001b[0mmap\u001b[0m\u001b[0;34m(\u001b[0m\u001b[0;32mlambda\u001b[0m \u001b[0ml\u001b[0m \u001b[0;34m:\u001b[0m \u001b[0ml\u001b[0m\u001b[0;34m.\u001b[0m\u001b[0mspilt\u001b[0m\u001b[0;34m(\u001b[0m\u001b[0;34m)\u001b[0m\u001b[0;34m,\u001b[0m \u001b[0minput_data\u001b[0m\u001b[0;34m)\u001b[0m\u001b[0;34m)\u001b[0m\u001b[0;34m\u001b[0m\u001b[0;34m\u001b[0m\u001b[0m\n\u001b[0m\u001b[1;32m     11\u001b[0m \u001b[0mprint\u001b[0m\u001b[0;34m(\u001b[0m\u001b[0mlines\u001b[0m\u001b[0;34m)\u001b[0m\u001b[0;34m\u001b[0m\u001b[0;34m\u001b[0m\u001b[0m\n\u001b[1;32m     12\u001b[0m \u001b[0md\u001b[0m \u001b[0;34m=\u001b[0m\u001b[0mCnt\u001b[0m\u001b[0;34m(\u001b[0m\u001b[0;34m)\u001b[0m\u001b[0;34m\u001b[0m\u001b[0;34m\u001b[0m\u001b[0m\n",
      "\u001b[0;31mAttributeError\u001b[0m: 'str' object has no attribute 'spilt'"
     ]
    }
   ],
   "source": [
    "## solution 1\n",
    "import re\n",
    "from collections import Counter as Cnt\n",
    "\n",
    "\n",
    "#timestamps = sorted(timestamps, key=lambda l: (l[1], l[2]))\n",
    "\n",
    "def parse_time(time):\n",
    "    pass\n",
    "lines = list(map(lambda l : l.spilt(), input_data))\n",
    "print(lines)\n",
    "d =Cnt()\n",
    "for t in timestamps:\n",
    "    if len(t) == 6:\n",
    "        d[t[5]] = (t[3], t[4])    "
   ]
  },
  {
   "cell_type": "code",
   "execution_count": 55,
   "metadata": {},
   "outputs": [],
   "source": [
    "## solution 2\n"
   ]
  },
  {
   "cell_type": "markdown",
   "metadata": {},
   "source": [
    "## [Day 5](https://adventofcode.com/2018/day/5)"
   ]
  },
  {
   "cell_type": "code",
   "execution_count": 16,
   "metadata": {},
   "outputs": [],
   "source": [
    "input_data = input_from_file(5)"
   ]
  },
  {
   "cell_type": "code",
   "execution_count": 17,
   "metadata": {},
   "outputs": [],
   "source": [
    "## solution 1\n"
   ]
  },
  {
   "cell_type": "code",
   "execution_count": 18,
   "metadata": {},
   "outputs": [],
   "source": [
    "## solution 2\n"
   ]
  },
  {
   "cell_type": "markdown",
   "metadata": {},
   "source": [
    "## [Day 6](https://adventofcode.com/2018/day/6)"
   ]
  },
  {
   "cell_type": "code",
   "execution_count": 19,
   "metadata": {},
   "outputs": [],
   "source": [
    "input_data = input_from_file(6)\n"
   ]
  },
  {
   "cell_type": "code",
   "execution_count": 20,
   "metadata": {},
   "outputs": [],
   "source": [
    "## solution 1\n"
   ]
  },
  {
   "cell_type": "code",
   "execution_count": 21,
   "metadata": {},
   "outputs": [],
   "source": [
    "## solution 2\n"
   ]
  },
  {
   "cell_type": "markdown",
   "metadata": {},
   "source": [
    "## [Day 7](https://adventofcode.com/2018/day/7)"
   ]
  },
  {
   "cell_type": "code",
   "execution_count": 22,
   "metadata": {},
   "outputs": [],
   "source": [
    "input_data = input_from_file(7)"
   ]
  },
  {
   "cell_type": "code",
   "execution_count": 23,
   "metadata": {},
   "outputs": [],
   "source": [
    "## solution 1\n"
   ]
  },
  {
   "cell_type": "code",
   "execution_count": 24,
   "metadata": {},
   "outputs": [],
   "source": [
    "## solution 2\n"
   ]
  },
  {
   "cell_type": "markdown",
   "metadata": {},
   "source": [
    "## [Day 8](https://adventofcode.com/2018/day/8)"
   ]
  },
  {
   "cell_type": "code",
   "execution_count": 25,
   "metadata": {},
   "outputs": [],
   "source": [
    "input_data = input_from_file(8)"
   ]
  },
  {
   "cell_type": "code",
   "execution_count": 26,
   "metadata": {},
   "outputs": [],
   "source": [
    "## solution 1\n"
   ]
  },
  {
   "cell_type": "code",
   "execution_count": 27,
   "metadata": {},
   "outputs": [],
   "source": [
    "## solution 2\n"
   ]
  },
  {
   "cell_type": "markdown",
   "metadata": {},
   "source": [
    "## [Day 9](http://adventofcode.com/2018/day/9)"
   ]
  },
  {
   "cell_type": "code",
   "execution_count": 28,
   "metadata": {},
   "outputs": [],
   "source": [
    "input_data = input_from_file(9)\n"
   ]
  },
  {
   "cell_type": "code",
   "execution_count": 29,
   "metadata": {},
   "outputs": [],
   "source": [
    "## solution 1\n"
   ]
  },
  {
   "cell_type": "code",
   "execution_count": 30,
   "metadata": {},
   "outputs": [],
   "source": [
    "## solution 2\n"
   ]
  },
  {
   "cell_type": "markdown",
   "metadata": {},
   "source": [
    "## [Day 10](https://adventofcode.com/2018/day/10)"
   ]
  },
  {
   "cell_type": "code",
   "execution_count": 31,
   "metadata": {},
   "outputs": [],
   "source": [
    "input_data = input_from_file(10)"
   ]
  },
  {
   "cell_type": "code",
   "execution_count": 32,
   "metadata": {},
   "outputs": [],
   "source": [
    "## solution 1\n"
   ]
  },
  {
   "cell_type": "code",
   "execution_count": 33,
   "metadata": {},
   "outputs": [],
   "source": [
    "## solution 2\n"
   ]
  },
  {
   "cell_type": "markdown",
   "metadata": {},
   "source": [
    "## [Day 11](https://adventofcode.com/2018/day/11)"
   ]
  },
  {
   "cell_type": "code",
   "execution_count": 34,
   "metadata": {},
   "outputs": [],
   "source": [
    "input_data = input_from_file(11)"
   ]
  },
  {
   "cell_type": "code",
   "execution_count": 35,
   "metadata": {},
   "outputs": [],
   "source": [
    "## solution 1\n"
   ]
  },
  {
   "cell_type": "code",
   "execution_count": 36,
   "metadata": {},
   "outputs": [],
   "source": [
    "## solution 2\n"
   ]
  },
  {
   "cell_type": "markdown",
   "metadata": {},
   "source": [
    "## [Day 12](https://adventofcode.com/2018/day/12)"
   ]
  },
  {
   "cell_type": "code",
   "execution_count": 37,
   "metadata": {},
   "outputs": [],
   "source": [
    "input_data = input_from_file(12)"
   ]
  },
  {
   "cell_type": "code",
   "execution_count": 38,
   "metadata": {},
   "outputs": [],
   "source": [
    "## solution 1"
   ]
  },
  {
   "cell_type": "code",
   "execution_count": 39,
   "metadata": {},
   "outputs": [],
   "source": [
    "## solution 2\n"
   ]
  },
  {
   "cell_type": "markdown",
   "metadata": {},
   "source": [
    "## [Day 13](https://adventofcode.com/2018/day/13)"
   ]
  },
  {
   "cell_type": "code",
   "execution_count": 40,
   "metadata": {},
   "outputs": [],
   "source": [
    "input_data = input_from_file(13)"
   ]
  },
  {
   "cell_type": "code",
   "execution_count": 41,
   "metadata": {},
   "outputs": [],
   "source": [
    "## solution 1\n"
   ]
  },
  {
   "cell_type": "code",
   "execution_count": 42,
   "metadata": {},
   "outputs": [],
   "source": [
    "## solution 2\n"
   ]
  },
  {
   "cell_type": "markdown",
   "metadata": {},
   "source": [
    "## [Day 14](https://adventofcode.com/2018/day/14)"
   ]
  },
  {
   "cell_type": "code",
   "execution_count": 43,
   "metadata": {},
   "outputs": [],
   "source": [
    "input_data = input_from_file(14)"
   ]
  },
  {
   "cell_type": "code",
   "execution_count": 44,
   "metadata": {},
   "outputs": [],
   "source": [
    "## solution 1\n"
   ]
  },
  {
   "cell_type": "code",
   "execution_count": 45,
   "metadata": {},
   "outputs": [],
   "source": [
    "## solution 2\n"
   ]
  },
  {
   "cell_type": "markdown",
   "metadata": {},
   "source": [
    "## [Day 15](https://adventofcode.com/2018/day/15)"
   ]
  },
  {
   "cell_type": "code",
   "execution_count": 46,
   "metadata": {},
   "outputs": [],
   "source": [
    "input_data = input_from_file(15)"
   ]
  },
  {
   "cell_type": "code",
   "execution_count": 47,
   "metadata": {},
   "outputs": [],
   "source": [
    "## solution 1\n"
   ]
  },
  {
   "cell_type": "code",
   "execution_count": 48,
   "metadata": {},
   "outputs": [],
   "source": [
    "## solution 2\n"
   ]
  },
  {
   "cell_type": "markdown",
   "metadata": {},
   "source": [
    "## [Day 16](https://adventofcode.com/2018/day/16)"
   ]
  },
  {
   "cell_type": "code",
   "execution_count": 49,
   "metadata": {},
   "outputs": [],
   "source": [
    "input_data = input_from_file(16)"
   ]
  },
  {
   "cell_type": "code",
   "execution_count": 50,
   "metadata": {},
   "outputs": [],
   "source": [
    "## solution 1\n"
   ]
  },
  {
   "cell_type": "code",
   "execution_count": 51,
   "metadata": {},
   "outputs": [],
   "source": [
    "## solution 2\n"
   ]
  },
  {
   "cell_type": "markdown",
   "metadata": {},
   "source": [
    "## [Day 17](https://adventofcode.com/2018/day/17)"
   ]
  },
  {
   "cell_type": "code",
   "execution_count": 52,
   "metadata": {},
   "outputs": [],
   "source": [
    "input_data = input_from_file(17)"
   ]
  },
  {
   "cell_type": "code",
   "execution_count": 53,
   "metadata": {},
   "outputs": [],
   "source": [
    "## solution 1\n"
   ]
  },
  {
   "cell_type": "code",
   "execution_count": 54,
   "metadata": {},
   "outputs": [],
   "source": [
    "## solution 2\n"
   ]
  },
  {
   "cell_type": "markdown",
   "metadata": {},
   "source": [
    "## [Day 18](https://adventofcode.com/2018/day/18)"
   ]
  },
  {
   "cell_type": "code",
   "execution_count": 55,
   "metadata": {},
   "outputs": [],
   "source": [
    "input_data = input_from_file(18)"
   ]
  },
  {
   "cell_type": "code",
   "execution_count": 56,
   "metadata": {},
   "outputs": [],
   "source": [
    "## solution 1\n"
   ]
  },
  {
   "cell_type": "code",
   "execution_count": 57,
   "metadata": {},
   "outputs": [],
   "source": [
    "## solution 2\n"
   ]
  },
  {
   "cell_type": "markdown",
   "metadata": {},
   "source": [
    "## [Day 19](https://adventofcode.com/2018/day/19)"
   ]
  },
  {
   "cell_type": "code",
   "execution_count": 58,
   "metadata": {},
   "outputs": [],
   "source": [
    "input_data = input_from_file(19)"
   ]
  },
  {
   "cell_type": "code",
   "execution_count": 59,
   "metadata": {},
   "outputs": [],
   "source": [
    "## solution 1\n"
   ]
  },
  {
   "cell_type": "code",
   "execution_count": 60,
   "metadata": {},
   "outputs": [],
   "source": [
    "## solution 2\n"
   ]
  },
  {
   "cell_type": "markdown",
   "metadata": {},
   "source": [
    "## [Day 20](https://adventofcode.com/2018/day/20): "
   ]
  },
  {
   "cell_type": "code",
   "execution_count": 61,
   "metadata": {},
   "outputs": [],
   "source": [
    "input_data = input_from_file(20)"
   ]
  },
  {
   "cell_type": "code",
   "execution_count": 62,
   "metadata": {},
   "outputs": [],
   "source": [
    "## solution 1\n"
   ]
  },
  {
   "cell_type": "code",
   "execution_count": 63,
   "metadata": {},
   "outputs": [],
   "source": [
    "## solution 2\n"
   ]
  },
  {
   "cell_type": "markdown",
   "metadata": {},
   "source": [
    "## [Day 21](https://adventofcode.com/2018/day/21)"
   ]
  },
  {
   "cell_type": "code",
   "execution_count": 64,
   "metadata": {
    "scrolled": true
   },
   "outputs": [],
   "source": [
    "input_data = input_from_file(21)\n",
    "    "
   ]
  },
  {
   "cell_type": "code",
   "execution_count": 65,
   "metadata": {},
   "outputs": [],
   "source": [
    "## solution 1\n"
   ]
  },
  {
   "cell_type": "code",
   "execution_count": 66,
   "metadata": {},
   "outputs": [],
   "source": [
    "## solution 2\n"
   ]
  },
  {
   "cell_type": "markdown",
   "metadata": {},
   "source": [
    "## [Day 22](https://adventofcode.com/2018/day/22)"
   ]
  },
  {
   "cell_type": "code",
   "execution_count": 67,
   "metadata": {},
   "outputs": [],
   "source": [
    "input_data = input_from_file(22)"
   ]
  },
  {
   "cell_type": "code",
   "execution_count": 68,
   "metadata": {},
   "outputs": [],
   "source": [
    "## solution 1\n",
    "  "
   ]
  },
  {
   "cell_type": "code",
   "execution_count": 69,
   "metadata": {},
   "outputs": [],
   "source": [
    "## solution 2\n"
   ]
  },
  {
   "cell_type": "markdown",
   "metadata": {},
   "source": [
    "## [Day 23](https://adventofcode.com/2018/day/23)"
   ]
  },
  {
   "cell_type": "code",
   "execution_count": 70,
   "metadata": {},
   "outputs": [],
   "source": [
    "input_data = input_from_file(23)"
   ]
  },
  {
   "cell_type": "code",
   "execution_count": 71,
   "metadata": {},
   "outputs": [],
   "source": [
    "## solution 1\n"
   ]
  },
  {
   "cell_type": "code",
   "execution_count": 72,
   "metadata": {},
   "outputs": [],
   "source": [
    "## solution 2\n"
   ]
  },
  {
   "cell_type": "markdown",
   "metadata": {},
   "source": [
    "## [Day 24](https://adventofcode.com/2018/day/24)"
   ]
  },
  {
   "cell_type": "code",
   "execution_count": 73,
   "metadata": {},
   "outputs": [],
   "source": [
    "input_data = input_from_file(24)"
   ]
  },
  {
   "cell_type": "code",
   "execution_count": 74,
   "metadata": {},
   "outputs": [],
   "source": [
    "## solution 1\n"
   ]
  },
  {
   "cell_type": "code",
   "execution_count": 75,
   "metadata": {},
   "outputs": [],
   "source": [
    "## solution 2\n"
   ]
  },
  {
   "cell_type": "markdown",
   "metadata": {},
   "source": [
    "## [Day 25](https://adventofcode.com/2018/day/25)"
   ]
  },
  {
   "cell_type": "code",
   "execution_count": 76,
   "metadata": {},
   "outputs": [],
   "source": [
    "input_data = input_from_file(25)"
   ]
  },
  {
   "cell_type": "code",
   "execution_count": 77,
   "metadata": {},
   "outputs": [],
   "source": [
    "## solution 1     \n",
    "          "
   ]
  }
 ],
 "metadata": {
  "kernelspec": {
   "display_name": "Python 3",
   "language": "python",
   "name": "python3"
  },
  "language_info": {
   "codemirror_mode": {
    "name": "ipython",
    "version": 3
   },
   "file_extension": ".py",
   "mimetype": "text/x-python",
   "name": "python",
   "nbconvert_exporter": "python",
   "pygments_lexer": "ipython3",
   "version": "3.6.7"
  }
 },
 "nbformat": 4,
 "nbformat_minor": 2
}
