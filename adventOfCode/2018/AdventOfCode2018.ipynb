{
 "cells": [
  {
   "cell_type": "markdown",
   "metadata": {},
   "source": [
    "[Advent of code 2018](https://adventofcode.com) - Solutions written in python provided by Lukasz Uszko (aka \"igbt6\")"
   ]
  },
  {
   "cell_type": "markdown",
   "metadata": {},
   "source": [
    "### Utility Functions"
   ]
  },
  {
   "cell_type": "code",
   "execution_count": 2,
   "metadata": {},
   "outputs": [],
   "source": [
    "## Imports\n",
    "import math\n",
    "from collections import defaultdict\n",
    "from collections import Counter\n",
    "from collections import OrderedDict\n",
    "from collections import deque\n",
    "import operator\n",
    "import re\n",
    "import functools\n",
    "import copy\n",
    "\n",
    "## Variables\n",
    "INF = float('inf')\n",
    "NAN = float('nan')\n",
    "BIG_NUM_POS = 10 ** 999\n",
    "BIG_NUM_NEG = -10 ** 999\n",
    "\n",
    "###############################################################################################\n",
    "## Input helpers, data parsers etc\n",
    "###############################################################################################\n",
    "###############################################################################################\n",
    "def input_from_file(day):\n",
    "    \"Open this day's input file.\"\n",
    "    return open('inputs/input{}.txt'.format(day))\n",
    "\n",
    "###############################################################################################\n",
    "def test_from_file(day):\n",
    "    \"Open this day's test input file.\"\n",
    "    return open('test{}.txt'.format(day))\n",
    "\n",
    "###############################################################################################\n",
    "def convert_to_matrix(input_data):\n",
    "    \"Converts input data to 2D matrix\"\n",
    "    if (isinstance(input_data, str)):\n",
    "        input_data = input_data.splitlines()\n",
    "    return [map_to_tuple(convert_input_value, line.split()) for line in input_data]\n",
    "\n",
    "###############################################################################################\n",
    "def convert_to_list(input_data):\n",
    "    \"Converts input data to list\"\n",
    "    if (isinstance(input_data, str)):\n",
    "        input_data = input_data.split().replace('\\n', '')\n",
    "    return list(map(convert_input_value, input_data))\n",
    "\n",
    "###############################################################################################\n",
    "def convert_input_value(val):\n",
    "    try:\n",
    "        return int(val)\n",
    "    except ValueError:\n",
    "        try:\n",
    "            fl = float(val)\n",
    "            if math.isnan(fl) or math.isinf(fl):\n",
    "                raise ValueError()\n",
    "            return float(val)\n",
    "        except ValueError:\n",
    "            return val\n",
    "\n",
    "###############################################################################################\n",
    "## Iterable data helpers\n",
    "###############################################################################################\n",
    "def map_to_tuple(fn, *args):\n",
    "    \"Do a map and put the results into list\"\n",
    "    return tuple(map(fn, *args))\n",
    "\n",
    "###############################################################################################"
   ]
  },
  {
   "cell_type": "markdown",
   "metadata": {},
   "source": [
    "## [DAY 1](http://adventofcode.com/2018/day/1)"
   ]
  },
  {
   "cell_type": "code",
   "execution_count": 4,
   "metadata": {},
   "outputs": [],
   "source": [
    "# input data\n",
    "input_data = convert_to_list(input_from_file(1))"
   ]
  },
  {
   "cell_type": "code",
   "execution_count": 5,
   "metadata": {},
   "outputs": [
    {
     "data": {
      "text/plain": [
       "585"
      ]
     },
     "execution_count": 5,
     "metadata": {},
     "output_type": "execute_result"
    }
   ],
   "source": [
    "## solution 1\n",
    "sum(input_data)\n"
   ]
  },
  {
   "cell_type": "code",
   "execution_count": 6,
   "metadata": {},
   "outputs": [
    {
     "data": {
      "text/plain": [
       "83173"
      ]
     },
     "execution_count": 6,
     "metadata": {},
     "output_type": "execute_result"
    }
   ],
   "source": [
    "## solution 2\n",
    "reached_sums = set()\n",
    "curr_sum = 0\n",
    "idx = 0\n",
    "while True:\n",
    "    curr_sum += input_data[idx % len(input_data)]\n",
    "    if curr_sum in reached_sums:\n",
    "        break\n",
    "    reached_sums.add(curr_sum)\n",
    "    idx += 1\n",
    "curr_sum"
   ]
  },
  {
   "cell_type": "markdown",
   "metadata": {},
   "source": [
    "## [DAY 2](http://adventofcode.com/2018/day/2)"
   ]
  },
  {
   "cell_type": "code",
   "execution_count": 84,
   "metadata": {},
   "outputs": [],
   "source": [
    "# input data\n",
    "input_data = convert_to_list(input_from_file(2))\n",
    "input_data = list(map(lambda x:x.rstrip(), input_data))"
   ]
  },
  {
   "cell_type": "code",
   "execution_count": 100,
   "metadata": {},
   "outputs": [
    {
     "data": {
      "text/plain": [
       "6972"
      ]
     },
     "execution_count": 100,
     "metadata": {},
     "output_type": "execute_result"
    }
   ],
   "source": [
    "## solution 1\n",
    "from collections import Counter as Cnt\n",
    "#print(input_data)\n",
    "\n",
    "twice = 0\n",
    "three = 0\n",
    "\n",
    "for _id in input_data:\n",
    "    d = Cnt()\n",
    "    for l in _id:\n",
    "        d[l] += 1\n",
    "    prev_twice = twice\n",
    "    prev_three = three\n",
    "    for v in d.items():\n",
    "        if prev_twice == twice and v[1] == 2:\n",
    "            twice += 1\n",
    "        elif prev_three == three and v[1] == 3:\n",
    "            three += 1\n",
    "twice * three"
   ]
  },
  {
   "cell_type": "code",
   "execution_count": 125,
   "metadata": {},
   "outputs": [
    {
     "data": {
      "text/plain": [
       "'aixwcbzrmdvpsjfgllthdyoqe'"
      ]
     },
     "execution_count": 125,
     "metadata": {},
     "output_type": "execute_result"
    }
   ],
   "source": [
    "## solution 2\n",
    "def solve(input_data):\n",
    "    for i,vi in enumerate(input_data):\n",
    "        for j,vj in enumerate(input_data):\n",
    "            if j == i:\n",
    "                continue\n",
    "            diff = list(filter(lambda x: x[0]!=x[1], zip(vi,vj)))\n",
    "            if len(diff) == 1:\n",
    "                #print(diff[0][0], diff[0][1])\n",
    "                return ''.join([x[0] for x in filter(lambda x: x[0]==x[1], zip(vi,vj))])\n",
    "                \n",
    "solve(input_data)\n",
    "    "
   ]
  },
  {
   "cell_type": "markdown",
   "metadata": {},
   "source": [
    "## [Day 3](http://adventofcode.com/2018/day/3)"
   ]
  },
  {
   "cell_type": "code",
   "execution_count": 65,
   "metadata": {},
   "outputs": [],
   "source": [
    "# input data\n",
    "input_data = convert_to_list(input_from_file(3))\n"
   ]
  },
  {
   "cell_type": "code",
   "execution_count": 65,
   "metadata": {
    "scrolled": true
   },
   "outputs": [
    {
     "data": {
      "text/plain": [
       "113716"
      ]
     },
     "execution_count": 65,
     "metadata": {},
     "output_type": "execute_result"
    }
   ],
   "source": [
    "## solution 1\n",
    "import re\n",
    "from collections import Counter as Cnt\n",
    "claims = map(lambda line : map(int, re.findall(r'-?\\d+', line)), input_data)\n",
    "\n",
    "d = Cnt()\n",
    "\n",
    "for (num, start_x, start_y, width, height) in claims:\n",
    "    for x in range(start_x, start_x+width):\n",
    "        for y in range(start_y, start_y+height):\n",
    "            d[(x,y)] += 1\n",
    "sum([1 for k,v in d.items() if v > 1])"
   ]
  },
  {
   "cell_type": "code",
   "execution_count": 75,
   "metadata": {},
   "outputs": [
    {
     "data": {
      "text/plain": [
       "742"
      ]
     },
     "execution_count": 75,
     "metadata": {},
     "output_type": "execute_result"
    }
   ],
   "source": [
    "## solution 2\n",
    "import re\n",
    "from collections import Counter as Cnt\n",
    "claims = map(lambda line : map(int, re.findall(r'-?\\d+', line)), input_data)\n",
    "\n",
    "d = Cnt()\n",
    "\n",
    "sizes = Cnt()\n",
    "d_claimed = Cnt()\n",
    "\n",
    "for (num, start_x, start_y, width, height) in claims:\n",
    "    sizes[num] = width*height\n",
    "    \n",
    "    for x in range(start_x, start_x+width):\n",
    "        for y in range(start_y, start_y+height):\n",
    "            if d[(x,y)]:\n",
    "                d[(x,y)].append(num)\n",
    "            else:\n",
    "                d[(x,y)] = [num]\n",
    "\n",
    "for k,v in d.items():\n",
    "    if len(v) == 1:\n",
    "        d_claimed[v[0]] += 1\n",
    "_id = 0\n",
    "for k,v in d_claimed.items():\n",
    "    if sizes[k] == v:\n",
    "        _id = k\n",
    "        break\n",
    "_id    "
   ]
  },
  {
   "cell_type": "markdown",
   "metadata": {},
   "source": [
    "## [Day 4](https://adventofcode.com/2018/day/4)"
   ]
  },
  {
   "cell_type": "code",
   "execution_count": 208,
   "metadata": {},
   "outputs": [],
   "source": [
    "input_data = convert_to_list(input_from_file(4))\n",
    "input_data = sorted(map(lambda l :l.split(), input_data))\n",
    "#print(input_data)"
   ]
  },
  {
   "cell_type": "code",
   "execution_count": 209,
   "metadata": {},
   "outputs": [
    {
     "data": {
      "text/plain": [
       "101194"
      ]
     },
     "execution_count": 209,
     "metadata": {},
     "output_type": "execute_result"
    }
   ],
   "source": [
    "## solution 1\n",
    "from collections import Counter as Cnt\n",
    "from datetime import datetime\n",
    "\n",
    "current_id = -1\n",
    "d_falls_asleep = Cnt()\n",
    "d_sum = Cnt()\n",
    "d_minutes = Cnt()\n",
    "for l in input_data:\n",
    "    dt = datetime.strptime(l[1].replace(']',''), '%H:%M')\n",
    "    if 'Guard' in l:\n",
    "        current_id = int(l[3][1:])\n",
    "        if current_id in d:\n",
    "            d[current_id] = 0\n",
    "    elif 'falls' in l:\n",
    "        d_falls_asleep[current_id] = dt.minute\n",
    "    elif 'wakes' in l:\n",
    "        d_sum[current_id] += (dt.minute-d_falls_asleep[current_id])\n",
    "        if current_id not in d_minutes:\n",
    "            d_minutes[current_id] = [0]*60\n",
    "        for i in range(d_falls_asleep[current_id], dt.minute):\n",
    "            d_minutes[current_id][i] += 1\n",
    "#print(d_sum)\n",
    "#print(d_minutes)\n",
    "guard_id, max_minutes_asleep = max([(k,v) for k,v in d_sum.items()], key=lambda t:t[1]) #(guard_id, max_minutes asslep)\n",
    "\n",
    "max_idx = 0\n",
    "max_val = 0\n",
    "for i,v in enumerate(d_minutes[guard_id]):\n",
    "    if v > max_val:\n",
    "        max_val = v\n",
    "        max_idx = i\n",
    "max_min_asleep_for_given_id = max_idx*guard_id\n",
    "max_min_asleep_for_given_id\n"
   ]
  },
  {
   "cell_type": "code",
   "execution_count": 210,
   "metadata": {},
   "outputs": [
    {
     "data": {
      "text/plain": [
       "102095"
      ]
     },
     "execution_count": 210,
     "metadata": {},
     "output_type": "execute_result"
    }
   ],
   "source": [
    "## solution 2\n",
    "from collections import Counter as Cnt\n",
    "from datetime import datetime\n",
    "\n",
    "current_id = -1\n",
    "d_falls_asleep = Cnt()\n",
    "d_sum = Cnt()\n",
    "d_minutes = Cnt()\n",
    "for l in input_data:\n",
    "    dt = datetime.strptime(l[1].replace(']',''), '%H:%M')\n",
    "    if 'Guard' in l:\n",
    "        current_id = int(l[3][1:])\n",
    "        if current_id in d:\n",
    "            d[current_id] = 0\n",
    "    elif 'falls' in l:\n",
    "        d_falls_asleep[current_id] = dt.minute\n",
    "    elif 'wakes' in l:\n",
    "        d_sum[current_id] += (dt.minute-d_falls_asleep[current_id])\n",
    "        if current_id not in d_minutes:\n",
    "            d_minutes[current_id] = [0]*60\n",
    "        for i in range(d_falls_asleep[current_id], dt.minute):\n",
    "            d_minutes[current_id][i] += 1\n",
    "\n",
    "max_guard_id = 0   \n",
    "max_idx = 0\n",
    "max_val = 0\n",
    "for k,v in d_minutes.items():\n",
    "    for i,val in enumerate(v):\n",
    "        if val > max_val:\n",
    "            max_guard_id = k\n",
    "            max_val = val\n",
    "            max_idx = i\n",
    "\n",
    "max_guard_id * max_idx "
   ]
  },
  {
   "cell_type": "markdown",
   "metadata": {},
   "source": [
    "## [Day 5](https://adventofcode.com/2018/day/5)"
   ]
  },
  {
   "cell_type": "code",
   "execution_count": 152,
   "metadata": {},
   "outputs": [],
   "source": [
    "input_data = input_from_file(5)"
   ]
  },
  {
   "cell_type": "code",
   "execution_count": 153,
   "metadata": {},
   "outputs": [],
   "source": [
    "## solution 1\n"
   ]
  },
  {
   "cell_type": "code",
   "execution_count": 154,
   "metadata": {},
   "outputs": [],
   "source": [
    "## solution 2\n"
   ]
  },
  {
   "cell_type": "markdown",
   "metadata": {},
   "source": [
    "## [Day 6](https://adventofcode.com/2018/day/6)"
   ]
  },
  {
   "cell_type": "code",
   "execution_count": 19,
   "metadata": {},
   "outputs": [],
   "source": [
    "input_data = input_from_file(6)\n"
   ]
  },
  {
   "cell_type": "code",
   "execution_count": 20,
   "metadata": {},
   "outputs": [],
   "source": [
    "## solution 1\n"
   ]
  },
  {
   "cell_type": "code",
   "execution_count": 21,
   "metadata": {},
   "outputs": [],
   "source": [
    "## solution 2\n"
   ]
  },
  {
   "cell_type": "markdown",
   "metadata": {},
   "source": [
    "## [Day 7](https://adventofcode.com/2018/day/7)"
   ]
  },
  {
   "cell_type": "code",
   "execution_count": 22,
   "metadata": {},
   "outputs": [],
   "source": [
    "input_data = input_from_file(7)"
   ]
  },
  {
   "cell_type": "code",
   "execution_count": 23,
   "metadata": {},
   "outputs": [],
   "source": [
    "## solution 1\n"
   ]
  },
  {
   "cell_type": "code",
   "execution_count": 24,
   "metadata": {},
   "outputs": [],
   "source": [
    "## solution 2\n"
   ]
  },
  {
   "cell_type": "markdown",
   "metadata": {},
   "source": [
    "## [Day 8](https://adventofcode.com/2018/day/8)"
   ]
  },
  {
   "cell_type": "code",
   "execution_count": 25,
   "metadata": {},
   "outputs": [],
   "source": [
    "input_data = input_from_file(8)"
   ]
  },
  {
   "cell_type": "code",
   "execution_count": 26,
   "metadata": {},
   "outputs": [],
   "source": [
    "## solution 1\n"
   ]
  },
  {
   "cell_type": "code",
   "execution_count": 27,
   "metadata": {},
   "outputs": [],
   "source": [
    "## solution 2\n"
   ]
  },
  {
   "cell_type": "markdown",
   "metadata": {},
   "source": [
    "## [Day 9](http://adventofcode.com/2018/day/9)"
   ]
  },
  {
   "cell_type": "code",
   "execution_count": 28,
   "metadata": {},
   "outputs": [],
   "source": [
    "input_data = input_from_file(9)\n"
   ]
  },
  {
   "cell_type": "code",
   "execution_count": 29,
   "metadata": {},
   "outputs": [],
   "source": [
    "## solution 1\n"
   ]
  },
  {
   "cell_type": "code",
   "execution_count": 30,
   "metadata": {},
   "outputs": [],
   "source": [
    "## solution 2\n"
   ]
  },
  {
   "cell_type": "markdown",
   "metadata": {},
   "source": [
    "## [Day 10](https://adventofcode.com/2018/day/10)"
   ]
  },
  {
   "cell_type": "code",
   "execution_count": 31,
   "metadata": {},
   "outputs": [],
   "source": [
    "input_data = input_from_file(10)"
   ]
  },
  {
   "cell_type": "code",
   "execution_count": 32,
   "metadata": {},
   "outputs": [],
   "source": [
    "## solution 1\n"
   ]
  },
  {
   "cell_type": "code",
   "execution_count": 33,
   "metadata": {},
   "outputs": [],
   "source": [
    "## solution 2\n"
   ]
  },
  {
   "cell_type": "markdown",
   "metadata": {},
   "source": [
    "## [Day 11](https://adventofcode.com/2018/day/11)"
   ]
  },
  {
   "cell_type": "code",
   "execution_count": 34,
   "metadata": {},
   "outputs": [],
   "source": [
    "input_data = input_from_file(11)"
   ]
  },
  {
   "cell_type": "code",
   "execution_count": 35,
   "metadata": {},
   "outputs": [],
   "source": [
    "## solution 1\n"
   ]
  },
  {
   "cell_type": "code",
   "execution_count": 36,
   "metadata": {},
   "outputs": [],
   "source": [
    "## solution 2\n"
   ]
  },
  {
   "cell_type": "markdown",
   "metadata": {},
   "source": [
    "## [Day 12](https://adventofcode.com/2018/day/12)"
   ]
  },
  {
   "cell_type": "code",
   "execution_count": 37,
   "metadata": {},
   "outputs": [],
   "source": [
    "input_data = input_from_file(12)"
   ]
  },
  {
   "cell_type": "code",
   "execution_count": 38,
   "metadata": {},
   "outputs": [],
   "source": [
    "## solution 1"
   ]
  },
  {
   "cell_type": "code",
   "execution_count": 39,
   "metadata": {},
   "outputs": [],
   "source": [
    "## solution 2\n"
   ]
  },
  {
   "cell_type": "markdown",
   "metadata": {},
   "source": [
    "## [Day 13](https://adventofcode.com/2018/day/13)"
   ]
  },
  {
   "cell_type": "code",
   "execution_count": 40,
   "metadata": {},
   "outputs": [],
   "source": [
    "input_data = input_from_file(13)"
   ]
  },
  {
   "cell_type": "code",
   "execution_count": 41,
   "metadata": {},
   "outputs": [],
   "source": [
    "## solution 1\n"
   ]
  },
  {
   "cell_type": "code",
   "execution_count": 42,
   "metadata": {},
   "outputs": [],
   "source": [
    "## solution 2\n"
   ]
  },
  {
   "cell_type": "markdown",
   "metadata": {},
   "source": [
    "## [Day 14](https://adventofcode.com/2018/day/14)"
   ]
  },
  {
   "cell_type": "code",
   "execution_count": 43,
   "metadata": {},
   "outputs": [],
   "source": [
    "input_data = input_from_file(14)"
   ]
  },
  {
   "cell_type": "code",
   "execution_count": 44,
   "metadata": {},
   "outputs": [],
   "source": [
    "## solution 1\n"
   ]
  },
  {
   "cell_type": "code",
   "execution_count": 45,
   "metadata": {},
   "outputs": [],
   "source": [
    "## solution 2\n"
   ]
  },
  {
   "cell_type": "markdown",
   "metadata": {},
   "source": [
    "## [Day 15](https://adventofcode.com/2018/day/15)"
   ]
  },
  {
   "cell_type": "code",
   "execution_count": 46,
   "metadata": {},
   "outputs": [],
   "source": [
    "input_data = input_from_file(15)"
   ]
  },
  {
   "cell_type": "code",
   "execution_count": 47,
   "metadata": {},
   "outputs": [],
   "source": [
    "## solution 1\n"
   ]
  },
  {
   "cell_type": "code",
   "execution_count": 48,
   "metadata": {},
   "outputs": [],
   "source": [
    "## solution 2\n"
   ]
  },
  {
   "cell_type": "markdown",
   "metadata": {},
   "source": [
    "## [Day 16](https://adventofcode.com/2018/day/16)"
   ]
  },
  {
   "cell_type": "code",
   "execution_count": 49,
   "metadata": {},
   "outputs": [],
   "source": [
    "input_data = input_from_file(16)"
   ]
  },
  {
   "cell_type": "code",
   "execution_count": 50,
   "metadata": {},
   "outputs": [],
   "source": [
    "## solution 1\n"
   ]
  },
  {
   "cell_type": "code",
   "execution_count": 51,
   "metadata": {},
   "outputs": [],
   "source": [
    "## solution 2\n"
   ]
  },
  {
   "cell_type": "markdown",
   "metadata": {},
   "source": [
    "## [Day 17](https://adventofcode.com/2018/day/17)"
   ]
  },
  {
   "cell_type": "code",
   "execution_count": 52,
   "metadata": {},
   "outputs": [],
   "source": [
    "input_data = input_from_file(17)"
   ]
  },
  {
   "cell_type": "code",
   "execution_count": 53,
   "metadata": {},
   "outputs": [],
   "source": [
    "## solution 1\n"
   ]
  },
  {
   "cell_type": "code",
   "execution_count": 54,
   "metadata": {},
   "outputs": [],
   "source": [
    "## solution 2\n"
   ]
  },
  {
   "cell_type": "markdown",
   "metadata": {},
   "source": [
    "## [Day 18](https://adventofcode.com/2018/day/18)"
   ]
  },
  {
   "cell_type": "code",
   "execution_count": 55,
   "metadata": {},
   "outputs": [],
   "source": [
    "input_data = input_from_file(18)"
   ]
  },
  {
   "cell_type": "code",
   "execution_count": 56,
   "metadata": {},
   "outputs": [],
   "source": [
    "## solution 1\n"
   ]
  },
  {
   "cell_type": "code",
   "execution_count": 57,
   "metadata": {},
   "outputs": [],
   "source": [
    "## solution 2\n"
   ]
  },
  {
   "cell_type": "markdown",
   "metadata": {},
   "source": [
    "## [Day 19](https://adventofcode.com/2018/day/19)"
   ]
  },
  {
   "cell_type": "code",
   "execution_count": 58,
   "metadata": {},
   "outputs": [],
   "source": [
    "input_data = input_from_file(19)"
   ]
  },
  {
   "cell_type": "code",
   "execution_count": 59,
   "metadata": {},
   "outputs": [],
   "source": [
    "## solution 1\n"
   ]
  },
  {
   "cell_type": "code",
   "execution_count": 60,
   "metadata": {},
   "outputs": [],
   "source": [
    "## solution 2\n"
   ]
  },
  {
   "cell_type": "markdown",
   "metadata": {},
   "source": [
    "## [Day 20](https://adventofcode.com/2018/day/20): "
   ]
  },
  {
   "cell_type": "code",
   "execution_count": 61,
   "metadata": {},
   "outputs": [],
   "source": [
    "input_data = input_from_file(20)"
   ]
  },
  {
   "cell_type": "code",
   "execution_count": 62,
   "metadata": {},
   "outputs": [],
   "source": [
    "## solution 1\n"
   ]
  },
  {
   "cell_type": "code",
   "execution_count": 63,
   "metadata": {},
   "outputs": [],
   "source": [
    "## solution 2\n"
   ]
  },
  {
   "cell_type": "markdown",
   "metadata": {},
   "source": [
    "## [Day 21](https://adventofcode.com/2018/day/21)"
   ]
  },
  {
   "cell_type": "code",
   "execution_count": 64,
   "metadata": {
    "scrolled": true
   },
   "outputs": [],
   "source": [
    "input_data = input_from_file(21)\n",
    "    "
   ]
  },
  {
   "cell_type": "code",
   "execution_count": 65,
   "metadata": {},
   "outputs": [],
   "source": [
    "## solution 1\n"
   ]
  },
  {
   "cell_type": "code",
   "execution_count": 66,
   "metadata": {},
   "outputs": [],
   "source": [
    "## solution 2\n"
   ]
  },
  {
   "cell_type": "markdown",
   "metadata": {},
   "source": [
    "## [Day 22](https://adventofcode.com/2018/day/22)"
   ]
  },
  {
   "cell_type": "code",
   "execution_count": 67,
   "metadata": {},
   "outputs": [],
   "source": [
    "input_data = input_from_file(22)"
   ]
  },
  {
   "cell_type": "code",
   "execution_count": 68,
   "metadata": {},
   "outputs": [],
   "source": [
    "## solution 1\n",
    "  "
   ]
  },
  {
   "cell_type": "code",
   "execution_count": 69,
   "metadata": {},
   "outputs": [],
   "source": [
    "## solution 2\n"
   ]
  },
  {
   "cell_type": "markdown",
   "metadata": {},
   "source": [
    "## [Day 23](https://adventofcode.com/2018/day/23)"
   ]
  },
  {
   "cell_type": "code",
   "execution_count": 70,
   "metadata": {},
   "outputs": [],
   "source": [
    "input_data = input_from_file(23)"
   ]
  },
  {
   "cell_type": "code",
   "execution_count": 71,
   "metadata": {},
   "outputs": [],
   "source": [
    "## solution 1\n"
   ]
  },
  {
   "cell_type": "code",
   "execution_count": 72,
   "metadata": {},
   "outputs": [],
   "source": [
    "## solution 2\n"
   ]
  },
  {
   "cell_type": "markdown",
   "metadata": {},
   "source": [
    "## [Day 24](https://adventofcode.com/2018/day/24)"
   ]
  },
  {
   "cell_type": "code",
   "execution_count": 73,
   "metadata": {},
   "outputs": [],
   "source": [
    "input_data = input_from_file(24)"
   ]
  },
  {
   "cell_type": "code",
   "execution_count": 74,
   "metadata": {},
   "outputs": [],
   "source": [
    "## solution 1\n"
   ]
  },
  {
   "cell_type": "code",
   "execution_count": 75,
   "metadata": {},
   "outputs": [],
   "source": [
    "## solution 2\n"
   ]
  },
  {
   "cell_type": "markdown",
   "metadata": {},
   "source": [
    "## [Day 25](https://adventofcode.com/2018/day/25)"
   ]
  },
  {
   "cell_type": "code",
   "execution_count": 76,
   "metadata": {},
   "outputs": [],
   "source": [
    "input_data = input_from_file(25)"
   ]
  },
  {
   "cell_type": "code",
   "execution_count": 77,
   "metadata": {},
   "outputs": [],
   "source": [
    "## solution 1     \n",
    "          "
   ]
  }
 ],
 "metadata": {
  "kernelspec": {
   "display_name": "Python 3",
   "language": "python",
   "name": "python3"
  },
  "language_info": {
   "codemirror_mode": {
    "name": "ipython",
    "version": 3
   },
   "file_extension": ".py",
   "mimetype": "text/x-python",
   "name": "python",
   "nbconvert_exporter": "python",
   "pygments_lexer": "ipython3",
   "version": "3.6.7"
  }
 },
 "nbformat": 4,
 "nbformat_minor": 2
}
