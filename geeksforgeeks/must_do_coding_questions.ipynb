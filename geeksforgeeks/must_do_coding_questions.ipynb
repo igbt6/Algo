{
 "cells": [
  {
   "cell_type": "markdown",
   "metadata": {},
   "source": [
    "Solutions to Must Do Coding Questions for Companies like Amazon, Microsoft, Adobe from https://www.geeksforgeeks.org/must-do-coding-questions-for-companies-like-amazon-microsoft-adobe/"
   ]
  },
  {
   "cell_type": "markdown",
   "metadata": {},
   "source": [
    "ARRAYS"
   ]
  },
  {
   "cell_type": "code",
   "execution_count": null,
   "metadata": {},
   "outputs": [],
   "source": [
    "#[Kadane's Algorithm](https://practice.geeksforgeeks.org/problems/kadanes-algorithm/0)\n",
    "# Constraints:\n",
    "# 1 ≤ T ≤ 200\n",
    "# 1 ≤ N ≤ 1000\n",
    "# -100 ≤ A[i] <= 100\n",
    " \n",
    "# Example:\n",
    "# Input\n",
    "# 2\n",
    "# 3\n",
    "# 1 2 3\n",
    "# 4\n",
    "# -1 -2 -3 -4\n",
    "def solution():\n",
    "    T = int(input())\n",
    "    for _ in range(T):\n",
    "        N = int(input())\n",
    "        A = list(map(int, input().split()))\n",
    "        history_max_sum = A[0]\n",
    "        max_sum = A[0]\n",
    "        for i in range(1, len(A)):\n",
    "            if max_sum + A[i] > max_sum:\n",
    "                max_sum += A[i]\n",
    "            else:\n",
    "                history_max_sum = max_sum\n",
    "                max_sum = A[i]\n",
    "        print(max_sum)\n",
    "\n",
    "solution()"
   ]
  },
  {
   "cell_type": "code",
   "execution_count": null,
   "metadata": {},
   "outputs": [],
   "source": [
    "# [Missing number in array](https://practice.geeksforgeeks.org/problems/missing-number-in-array/0)\n",
    "#Input\n",
    "# T = 2\n",
    "# N = 5\n",
    "# C = 1 2 3 5\n",
    "# N = 10\n",
    "# C = 1 2 3 4 5 6 7 8 10\n",
    "\n",
    "def solution():\n",
    "    T = int(input())\n",
    "    for _ in range(T):\n",
    "        N = int(input())\n",
    "        C = list(map(int, input().split()))\n",
    "        print(sum(range(1,N+1)) - sum(C))\n",
    "    \n",
    "solution()\n"
   ]
  },
  {
   "cell_type": "code",
   "execution_count": null,
   "metadata": {},
   "outputs": [],
   "source": []
  }
 ],
 "metadata": {
  "celltoolbar": "Raw Cell Format",
  "kernelspec": {
   "display_name": "Python 3",
   "language": "python",
   "name": "python3"
  },
  "language_info": {
   "codemirror_mode": {
    "name": "ipython",
    "version": 3
   },
   "file_extension": ".py",
   "mimetype": "text/x-python",
   "name": "python",
   "nbconvert_exporter": "python",
   "pygments_lexer": "ipython3",
   "version": "3.6.5"
  }
 },
 "nbformat": 4,
 "nbformat_minor": 2
}
